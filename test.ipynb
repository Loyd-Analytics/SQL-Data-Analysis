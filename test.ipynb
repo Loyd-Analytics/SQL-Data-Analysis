{
 "cells": [
  {
   "cell_type": "markdown",
   "metadata": {},
   "source": [
    "[Data Analysis Presentation]([https://](https://docs.google.com/presentation/d/1xu2-0oqt0kZ4R7EPeCExpIaUG77ksRutQY32ASK0gZQ/edit#slide=id.g31dd2f39063_0_6))"
   ]
  }
 ],
 "metadata": {
  "kernelspec": {
   "display_name": "Python 3",
   "language": "python",
   "name": "python3"
  },
  "language_info": {
   "name": "python",
   "version": "3.13.0"
  }
 },
 "nbformat": 4,
 "nbformat_minor": 2
}
