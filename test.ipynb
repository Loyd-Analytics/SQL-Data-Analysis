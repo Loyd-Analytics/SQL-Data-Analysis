{
 "cells": [
  {
   "cell_type": "markdown",
   "metadata": {},
   "source": [
    "This is a sample code"
   ]
  },
  {
   "cell_type": "code",
   "execution_count": 1,
   "metadata": {},
   "outputs": [
    {
     "ename": "SyntaxError",
     "evalue": "invalid syntax (577697264.py, line 7)",
     "output_type": "error",
     "traceback": [
      "\u001b[1;36m  Cell \u001b[1;32mIn[1], line 7\u001b[1;36m\u001b[0m\n\u001b[1;33m    if (!require(ggplot2)) install.packages(\"ggplot2\", dependencies = TRUE)\u001b[0m\n\u001b[1;37m        ^\u001b[0m\n\u001b[1;31mSyntaxError\u001b[0m\u001b[1;31m:\u001b[0m invalid syntax\n"
     ]
    }
   ],
   "source": [
    "# Basic Analysis of the mtcars Dataset\n",
    "# Author: Your Name\n",
    "# Date: YYYY-MM-DD\n",
    "\n",
    "# Load necessary packages\n",
    "# Install packages if not already installed\n",
    "if (!require(ggplot2)) install.packages(\"ggplot2\", dependencies = TRUE)\n",
    "library(ggplot2)\n",
    "\n",
    "# Load the mtcars dataset\n",
    "data(\"mtcars\")\n",
    "\n",
    "# Display the first few rows of the dataset\n",
    "# This gives an overview of the data structure and the first few entries\n",
    "head(mtcars)\n",
    "\n",
    "# Summary statistics of the dataset\n",
    "# Provides a quick summary of each column in the dataset\n",
    "summary(mtcars)\n",
    "\n",
    "# Calculate the mean miles per gallon (mpg) for the dataset\n",
    "mean_mpg <- mean(mtcars$mpg)\n",
    "cat(\"The mean miles per gallon (mpg) is:\", mean_mpg, \"\\n\")\n",
    "\n",
    "# Create a scatter plot of mpg vs. hp (horsepower)\n",
    "# Visualizes the relationship between miles per gallon and horsepower\n",
    "ggplot(data = mtcars, aes(x = hp, y = mpg)) +\n",
    "  geom_point(color = \"blue\") +\n",
    "  labs(title = \"Scatter Plot of MPG vs. Horsepower\",\n",
    "       x = \"Horsepower (hp)\",\n",
    "       y = \"Miles per Gallon (mpg)\") +\n",
    "  theme_minimal()\n",
    "\n",
    "# Save the plot to a file\n",
    "ggsave(\"mpg_vs_hp_scatter_plot.png\")\n",
    "\n",
    "# Perform a linear regression analysis\n",
    "# Fits a linear model to predict mpg based on hp\n",
    "lm_model <- lm(mpg ~ hp, data = mtcars)\n",
    "summary(lm_model)\n",
    "\n",
    "# Plot the regression line\n",
    "# Adds a regression line to the scatter plot to visualize the fit\n",
    "ggplot(data = mtcars, aes(x = hp, y = mpg)) +\n",
    "  geom_point(color = \"blue\") +\n",
    "  geom_smooth(method = \"lm\", col = \"red\") +\n",
    "  labs(title = \"Regression Analysis: MPG vs. Horsepower\",\n",
    "       x = \"Horsepower (hp)\",\n",
    "       y = \"Miles per Gallon (mpg)\") +\n",
    "  theme_minimal()\n",
    "\n",
    "# Save the regression plot to a file\n",
    "ggsave(\"mpg_vs_hp_regression_plot.png\")"
   ]
  }
 ],
 "metadata": {
  "kernelspec": {
   "display_name": "Python 3",
   "language": "python",
   "name": "python3"
  },
  "language_info": {
   "codemirror_mode": {
    "name": "ipython",
    "version": 3
   },
   "file_extension": ".py",
   "mimetype": "text/x-python",
   "name": "python",
   "nbconvert_exporter": "python",
   "pygments_lexer": "ipython3",
   "version": "3.13.0"
  }
 },
 "nbformat": 4,
 "nbformat_minor": 2
}
