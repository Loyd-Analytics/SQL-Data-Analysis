{
 "cells": [
  {
   "cell_type": "markdown",
   "metadata": {},
   "source": [
    "# **Reading JSON data into memory**"
   ]
  },
  {
   "cell_type": "markdown",
   "metadata": {},
   "source": [
    "- When data is stored in JSON format, it's not always easy to load into a DataFrame. This is the case for the \"nested_testing_scores.json\" file. Here, the data will have to be manually manipulated before it can be stored in a DataFrame.\n",
    "\n",
    "- To help get you started, pandas has been loaded into the workspace as pd."
   ]
  },
  {
   "cell_type": "markdown",
   "metadata": {},
   "source": [
    "**Instructions**\n",
    "\n",
    "- Use pandas to read a JSON file into a DataFrame. Pass the \"nested_scores.json\" file path to the extract() function."
   ]
  },
  {
   "cell_type": "code",
   "execution_count": null,
   "metadata": {},
   "outputs": [],
   "source": [
    "def extract(file_path):\n",
    "  \t# Read the JSON file into a DataFrame, orient by index\n",
    "\treturn pd.read_json(file_path, orient=\"index\")\n",
    "\n",
    "# Call the extract function, pass in the desired file_path\n",
    "raw_testing_scores = extract(\"nested_scores.json\")\n",
    "print(raw_testing_scores.head())"
   ]
  },
  {
   "cell_type": "code",
   "execution_count": null,
   "metadata": {
    "vscode": {
     "languageId": "sql"
    }
   },
   "outputs": [],
   "source": [
    "ERROR! Session/line number was not unique in database. History logging moved to new session 11\n",
    "              street_address       city                                             scores\n",
    "02M260  425 West 33rd Street  Manhattan   {'math': None, 'reading': None, 'writing': None}\n",
    "06M211    650 Academy Street  Manhattan   {'math': None, 'reading': None, 'writing': None}\n",
    "01M539   111 Columbia Street  Manhattan  {'math': 657.0, 'reading': 601.0, 'writing': 6...\n",
    "02M294      350 Grand Street  Manhattan  {'math': 395.0, 'reading': 411.0, 'writing': 3...\n",
    "02M308      350 Grand Street  Manhattan  {'math': 418.0, 'reading': 428.0, 'writing': 4..."
   ]
  },
  {
   "cell_type": "markdown",
   "metadata": {},
   "source": [
    "**Instructions**\n",
    "\n",
    "- Import the json library. Use the json library to load the \"nested_scores.json\" file into memory."
   ]
  },
  {
   "cell_type": "code",
   "execution_count": null,
   "metadata": {},
   "outputs": [],
   "source": [
    "# Import the json library\n",
    "import json\n",
    "\n",
    "def extract(file_path):\n",
    "    with open(file_path, \"r\") as json_file:\n",
    "        # Load the data from the JSON file\n",
    "        raw_data = json.load(json_file)\n",
    "    return raw_data\n",
    "\n",
    "raw_testing_scores = extract(\"nested_scores.json\")\n",
    "\n",
    "# Print the raw_testing_scores\n",
    "print(raw_testing_scores)"
   ]
  },
  {
   "cell_type": "code",
   "execution_count": null,
   "metadata": {
    "vscode": {
     "languageId": "sql"
    }
   },
   "outputs": [],
   "source": [
    "{'02M260': {'street_address': '425 West 33rd Street', 'city': 'Manhattan', 'scores': {'math': None, 'reading': None, 'writing': None}}, '06M211': }"
   ]
  }
 ],
 "metadata": {
  "kernelspec": {
   "display_name": "Python 3",
   "language": "python",
   "name": "python3"
  },
  "language_info": {
   "name": "python",
   "version": "3.13.0"
  }
 },
 "nbformat": 4,
 "nbformat_minor": 2
}
