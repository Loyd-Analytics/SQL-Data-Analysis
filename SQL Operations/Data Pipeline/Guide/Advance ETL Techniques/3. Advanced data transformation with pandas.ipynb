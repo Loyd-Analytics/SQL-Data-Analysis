{
 "cells": [
  {
   "cell_type": "markdown",
   "metadata": {},
   "source": [
    "# **Filling missing values with pandas**"
   ]
  },
  {
   "cell_type": "markdown",
   "metadata": {},
   "source": [
    "- When transforming data, you'll often come across missing values in a DataFrame, which are typically designated by NaN. \n",
    "- In the DataFrame above, rows two and three are both missing values in the \"open\" and \"close\" columns. \n",
    "- To remedy this, pandas offers the dot-fillna method. \n",
    "- In its most basic form, this method takes a value that is used to fill all NaN values in a DataFrame. \n",
    "- In our example, missing values in the \"open\" and \"close\" columns are filled with the value zero, and the result is shown below."
   ]
  },
  {
   "cell_type": "code",
   "execution_count": null,
   "metadata": {
    "vscode": {
     "languageId": "sql"
    }
   },
   "outputs": [],
   "source": [
    "timestamps\t        volume\t    open\t    close\n",
    "1997-05-15 13:30:00\t1443120000\t0.121875\t0.097917\n",
    "1997-05-16 13:30:00\t294000000\tNaN\t        0.086458\n",
    "1997-05-19 13:30:00\t122136000\t0.088021\tNaN"
   ]
  },
  {
   "cell_type": "code",
   "execution_count": null,
   "metadata": {},
   "outputs": [],
   "source": [
    "# Fill all NaN with value 0\n",
    "clean_stock_data = raw_stock_data.fillna(value=0)"
   ]
  },
  {
   "cell_type": "code",
   "execution_count": null,
   "metadata": {
    "vscode": {
     "languageId": "sql"
    }
   },
   "outputs": [],
   "source": [
    "timestamps\t        volume\t    open\t    close\n",
    "1997-05-15 13:30:00\t1443120000\t0.121875\t0.097917\n",
    "1997-05-16 13:30:00\t294000000\t0.000000\t0.086458\n",
    "1997-05-19 13:30:00\t122136000\t0.088021\t0.000000"
   ]
  },
  {
   "cell_type": "markdown",
   "metadata": {},
   "source": [
    "- A dictionary can also be passed to the \"value\" parameter in the fillna method. \n",
    "- When axis is set to one, the key-value pairs represent column names, and the associated values are used to fill missing values in that column. \n",
    "- This expedites filling missing values across multiple columns. \n",
    "- In our example, all missing values in the \"open\" column are replaced with zero, and all missing values in the \"close\" column are replaced with point-five."
   ]
  },
  {
   "cell_type": "code",
   "execution_count": null,
   "metadata": {
    "vscode": {
     "languageId": "sql"
    }
   },
   "outputs": [],
   "source": [
    "timestamps\t        volume\t    open\t    close\n",
    "1997-05-15 13:30:00\t1443120000\t0.121875\t0.097917\n",
    "1997-05-16 13:30:00\t294000000\tNaN\t        0.086458\n",
    "1997-05-19 13:30:00\t122136000\t0.088021\tNaN"
   ]
  },
  {
   "cell_type": "code",
   "execution_count": null,
   "metadata": {},
   "outputs": [],
   "source": [
    "# Fill NaN values with specific value for each column\n",
    "clean_stock_data = raw_stock_data.fillna(value={\"open\": 0, \"close\": .5}, axis=1)"
   ]
  },
  {
   "cell_type": "code",
   "execution_count": null,
   "metadata": {
    "vscode": {
     "languageId": "sql"
    }
   },
   "outputs": [],
   "source": [
    "timestamps\t        volume\t    open\t    close\n",
    "1997-05-15 13:30:00\t1443120000\t0.121875\t0.097917\n",
    "1997-05-16 13:30:00\t294000000\t0.000000\t0.086458\n",
    "1997-05-19 13:30:00\t122136000\t0.088021\t0.500000"
   ]
  },
  {
   "cell_type": "markdown",
   "metadata": {},
   "source": [
    "- A column can also be passed to the fillna method. \n",
    "- When that occurs, missing values are replaced with the corresponding values from the column that was passed. \n",
    "- Here, the \"close\" column is used to fill all missing values for the \"open\" column. \n",
    "- When the parameter in_place is set to True, the DataFrame is altered in-place, and the output does not need to be stored to a new variable."
   ]
  },
  {
   "cell_type": "code",
   "execution_count": null,
   "metadata": {
    "vscode": {
     "languageId": "sql"
    }
   },
   "outputs": [],
   "source": [
    "timestamps\t        volume\t    open\t    close\n",
    "1997-05-15 13:30:00\t1443120000\t0.121875\t0.097917\n",
    "1997-05-16 13:30:00\t294000000\tNaN\t        0.086458\n",
    "1997-05-19 13:30:00\t122136000\t0.088021\tNaN"
   ]
  },
  {
   "cell_type": "code",
   "execution_count": null,
   "metadata": {},
   "outputs": [],
   "source": [
    "# Fill NaN value using other columns\n",
    "raw_stock_data[\"open\"].fillna(raw_stock_data[\"close\"], inplace=True)"
   ]
  },
  {
   "cell_type": "code",
   "execution_count": null,
   "metadata": {
    "vscode": {
     "languageId": "sql"
    }
   },
   "outputs": [],
   "source": [
    "timestamps\t        volume\t    open\t    close\n",
    "1997-05-15 13:30:00\t1443120000\t0.121875\t0.097917\n",
    "1997-05-16 13:30:00\t294000000\t0.086458\t0.086458\n",
    "1997-05-19 13:30:00\t122136000\t0.088021\tNaN"
   ]
  },
  {
   "cell_type": "markdown",
   "metadata": {},
   "source": [
    "# **Grouping data**"
   ]
  },
  {
   "cell_type": "markdown",
   "metadata": {},
   "source": [
    "- In SQL, one of the most common transformations applied to data is done using \"GROUP BY\" functionality. \n",
    "- In this SQL statement, data is grouped by the \"ticker\" column, and the average of the remaining columns is taken. \n",
    "- Lucky for us, pandas offers this same functionality through their dot-groupby method."
   ]
  },
  {
   "cell_type": "code",
   "execution_count": null,
   "metadata": {
    "vscode": {
     "languageId": "sql"
    }
   },
   "outputs": [],
   "source": [
    "SELECT\n",
    "    ticker,\n",
    "    AVG(volume),\n",
    "    AVG(open),\n",
    "    AVG(close)\n",
    "FROM\n",
    "    raw_stock_data\n",
    "GROUP BY\n",
    "    ticker;"
   ]
  },
  {
   "cell_type": "markdown",
   "metadata": {
    "vscode": {
     "languageId": "bat"
    }
   },
   "source": [
    "- The `.groupby()` method can recreate the query above, using pandas"
   ]
  },
  {
   "cell_type": "markdown",
   "metadata": {},
   "source": [
    "# **Grouping data with pandas**"
   ]
  },
  {
   "cell_type": "markdown",
   "metadata": {},
   "source": [
    "- In a single line of code, the dot-groupby method groups the raw_stock_data DataFrame by the \"ticker\" column, and finds the mean of the other columns. \n",
    "- By passing zero to the axis parameter, we are grouping the DataFrame by row labels, which is standard practice. \n",
    "- If one is passed to axis, data is grouped by column labels. \n",
    "- The grouped DataFrame is stored to the grouped_stock_data DataFrame, and shown below. \n",
    "- In addition to the mean, pandas allows methods such as dot-min, dot-max and dot-sum to be used to aggregate the remaining columns."
   ]
  },
  {
   "cell_type": "code",
   "execution_count": null,
   "metadata": {
    "vscode": {
     "languageId": "sql"
    }
   },
   "outputs": [],
   "source": [
    "ticker  volume     open     close\n",
    "AAPL    1443120000 0.121875 0.097917\n",
    "AAPL    297000000  0.098146 0.086458\n",
    "AMZN    124186000  0.247511 0.251290"
   ]
  },
  {
   "cell_type": "code",
   "execution_count": null,
   "metadata": {},
   "outputs": [],
   "source": [
    "# Use Python to group data by ticker, find the mean of the remaining columns\n",
    "grouped_stock_data = raw_stock_data.groupby(by=[\"ticker\"], axis=0).mean()"
   ]
  },
  {
   "cell_type": "code",
   "execution_count": null,
   "metadata": {
    "vscode": {
     "languageId": "sql"
    }
   },
   "outputs": [],
   "source": [
    "        volume\t        open\t    close\n",
    "ticker\n",
    "AAPL\t1.149287e+08\t34.998377\t34.986851\n",
    "AMZN\t1.434213e+08\t30.844692\t30.830233"
   ]
  },
  {
   "cell_type": "markdown",
   "metadata": {},
   "source": [
    "- Can use `.min()`, `.max()`, and `.sum()` to aggregate data"
   ]
  },
  {
   "cell_type": "markdown",
   "metadata": {},
   "source": [
    "# **Applying advanced transformations to DataFrames**"
   ]
  },
  {
   "cell_type": "markdown",
   "metadata": {},
   "source": [
    "- At times, transformation logic will be more complex than what pandas' built-in functionality can handle. \n",
    "- Luckily, pandas offers the dot-apply method, which takes a function containing the custom transformation logic, and applies it to the DataFrame. \n",
    "- To illustrate this, let's use an example. We'd like to classify the price changes that takes place for an asset by creating a \"change\" column. \n",
    "- First, we'll define a function, called classify_change. \n",
    "- This function takes a row, and returns \"Increase\" or \"Decrease\" based on the difference between the \"open\" and \"close\" values.\n",
    "- Once this function is defined, it's \"applied\" to each row, using the dot-apply method. \n",
    "- Setting axis equal to one ensures that the classify_change function is applied to each row. \n",
    "- The result is written to the \"change\" column, and shown in the DataFrame below."
   ]
  },
  {
   "cell_type": "markdown",
   "metadata": {},
   "source": [
    "The `.apply()` method can handle more advanced transformations"
   ]
  },
  {
   "cell_type": "code",
   "execution_count": null,
   "metadata": {
    "vscode": {
     "languageId": "sql"
    }
   },
   "outputs": [],
   "source": [
    "Before transformation\n",
    "\n",
    "ticker ...  open      close\n",
    "AAPL        0.121875  0.097917\n",
    "AAPL        0.098146  0.086458\n",
    "AMZN        0.247511  0.251290"
   ]
  },
  {
   "cell_type": "code",
   "execution_count": null,
   "metadata": {},
   "outputs": [],
   "source": [
    "def classify_change(row):\n",
    "  change = row[\"close\"] - row[\"open\"]\n",
    "  if change > 0:\n",
    "    return \"Increase\"\n",
    "  else:\n",
    "    return \"Decrease\""
   ]
  },
  {
   "cell_type": "code",
   "execution_count": null,
   "metadata": {},
   "outputs": [],
   "source": [
    "# Apply transformation to DataFrame\n",
    "raw_stock_data[\"change\"] = raw_stock_data.apply(\n",
    "    classify_change,\n",
    "    axis=1\n",
    ")"
   ]
  },
  {
   "cell_type": "code",
   "execution_count": null,
   "metadata": {
    "vscode": {
     "languageId": "sql"
    }
   },
   "outputs": [],
   "source": [
    "After transformation\n",
    "\n",
    "ticker  ... open      close     change\n",
    "AAPL        0.121875  0.097917  Decrease\n",
    "AAPL        0.098146  0.086458  Decrease\n",
    "AMZN        0.247511  0.251290  Increase"
   ]
  }
 ],
 "metadata": {
  "language_info": {
   "name": "python"
  }
 },
 "nbformat": 4,
 "nbformat_minor": 2
}
