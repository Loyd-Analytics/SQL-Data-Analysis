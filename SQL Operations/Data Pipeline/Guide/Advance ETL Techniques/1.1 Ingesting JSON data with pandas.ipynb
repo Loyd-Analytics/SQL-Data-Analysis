{
 "cells": [
  {
   "cell_type": "markdown",
   "metadata": {},
   "source": [
    "# **Ingesting JSON data with pandas**"
   ]
  },
  {
   "cell_type": "markdown",
   "metadata": {},
   "source": [
    "- When developing a data pipeline, you may have to work with non-tabular data and data sources, such as APIs or JSON files. In this exercise, we'll practice extracting data from a JSON file using pandas.\n",
    "\n",
    "- pandas has been imported as pd, and the JSON file you'll ingest is stored at the path \"testing_scores.json\"."
   ]
  },
  {
   "cell_type": "markdown",
   "metadata": {},
   "source": [
    "**Instructions**\n",
    "\n",
    "- Update the extract() function read a JSON file into a pandas DataFrame, orienting by records.\n",
    "- Pass the path testing_scores.json to the extract() function, and store the output to a variable called raw_testing_scores.\n",
    "- Print the head of the raw_testing_scores DataFrame."
   ]
  },
  {
   "cell_type": "code",
   "execution_count": null,
   "metadata": {},
   "outputs": [],
   "source": [
    "def extract(file_path):\n",
    "  # Read the JSON file into a DataFrame\n",
    "  return pd.read_json(file_path, orient=\"records\")\n",
    "\n",
    "# Call the extract function with the appropriate path, assign to raw_testing_scores\n",
    "raw_testing_scores = extract(\"testing_scores.json\")\n",
    "\n",
    "# Output the head of the DataFrame\n",
    "print(raw_testing_scores.head())\n"
   ]
  },
  {
   "cell_type": "code",
   "execution_count": null,
   "metadata": {
    "vscode": {
     "languageId": "sql"
    }
   },
   "outputs": [],
   "source": [
    "              street_address       city  math_score  reading_score  writing_score\n",
    "02M260  425 West 33rd Street  Manhattan         NaN            NaN            NaN\n",
    "06M211    650 Academy Street  Manhattan         NaN            NaN            NaN\n",
    "01M539   111 Columbia Street  Manhattan       657.0          601.0          601.0\n",
    "02M294      350 Grand Street  Manhattan       395.0          411.0          387.0\n",
    "02M308      350 Grand Street  Manhattan       418.0          428.0          415.0"
   ]
  },
  {
   "cell_type": "markdown",
   "metadata": {},
   "source": [
    "`orient=\"records\":`\n",
    "\n",
    "- The JSON data is expected to be in the form of a list of records (dictionaries), where each dictionary corresponds to a row in the DataFrame."
   ]
  },
  {
   "cell_type": "markdown",
   "metadata": {},
   "source": [
    "When this JSON data is read with `orient=\"records\"`, it results in a DataFrame like this:"
   ]
  },
  {
   "cell_type": "code",
   "execution_count": null,
   "metadata": {
    "vscode": {
     "languageId": "sql"
    }
   },
   "outputs": [],
   "source": [
    "   column1 column2\n",
    "0  value1a  value2a\n",
    "1  value1b  value2b\n",
    "2  value1c  value2c"
   ]
  },
  {
   "cell_type": "markdown",
   "metadata": {},
   "source": [
    "`orient=\"columns\":`\n",
    "\n",
    "- The JSON data is expected to be in the form of a dictionary of lists, where each key corresponds to a column name and the associated value is a list of column values."
   ]
  },
  {
   "cell_type": "markdown",
   "metadata": {},
   "source": [
    "When this JSON data is read with `orient=\"columns\"`, it results in the same DataFrame as above:"
   ]
  },
  {
   "cell_type": "code",
   "execution_count": null,
   "metadata": {
    "vscode": {
     "languageId": "sql"
    }
   },
   "outputs": [],
   "source": [
    "   column1 column2\n",
    "0  value1a  value2a\n",
    "1  value1b  value2b\n",
    "2  value1c  value2c"
   ]
  },
  {
   "cell_type": "markdown",
   "metadata": {},
   "source": [
    "**Summary**\n",
    "\n",
    "- Use orient=\"records\" when your JSON data is a list of dictionaries, each representing a row.\n",
    "- Use orient=\"columns\" when your JSON data is a dictionary of lists, each representing a column."
   ]
  }
 ],
 "metadata": {
  "language_info": {
   "name": "python"
  }
 },
 "nbformat": 4,
 "nbformat_minor": 2
}
