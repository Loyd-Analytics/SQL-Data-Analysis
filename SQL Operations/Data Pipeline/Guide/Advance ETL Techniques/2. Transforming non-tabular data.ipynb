{
 "cells": [
  {
   "cell_type": "markdown",
   "metadata": {},
   "source": [
    "# **Storing data in dictionaries**"
   ]
  },
  {
   "cell_type": "markdown",
   "metadata": {},
   "source": [
    "- In this dictionary, each key represents a unique index, and the associated value is a nested dictionary which stores the remainder of the record. \n",
    "- To make this dictionary DataFrame-ready, it needs to be wrangled into a data structure that can easily be converted to a DataFrame, such as a list of lists."
   ]
  },
  {
   "cell_type": "code",
   "execution_count": null,
   "metadata": {},
   "outputs": [],
   "source": [
    "Nested JSON\n",
    "\n",
    "{\n",
    "  \"863703000\": {\n",
    "    \"price\": {\n",
    "      \"open\": 0.12187,\n",
    "      \"close\": 0.09791\n",
    "    },\n",
    "    \"volume\": 1443120000\n",
    "  },\n",
    "  \"863789400\": {\n",
    "  },\n",
    "   ... \n",
    "}"
   ]
  },
  {
   "cell_type": "markdown",
   "metadata": {},
   "source": [
    "Goal:\n",
    "\n",
    "- Convert dictionary into a DataFrame-ready format"
   ]
  },
  {
   "cell_type": "code",
   "execution_count": null,
   "metadata": {},
   "outputs": [],
   "source": [
    "[\n",
    "    [863703000, 0.12187, 0.09791, 1443120000],\n",
    "    [863789400, 0.09843, ...]\n",
    "]"
   ]
  },
  {
   "cell_type": "markdown",
   "metadata": {},
   "source": [
    "# **Iterating over dictionary components**"
   ]
  },
  {
   "cell_type": "markdown",
   "metadata": {},
   "source": [
    "- First, we'll want to iterate over the dictionaries keys and values. \n",
    "- To do this, we can use the keys, values, and items methods. \n",
    "- The keys and values methods create a list made up of keys or values, respectively. \n",
    "- These can then be looped over, and leveraged as needed. \n",
    "- The items method returns a list of tuples, where each tuple is a key-value pair. \n",
    "- With the items method, both a key and value can be accessed in a single iteration of a for loop. \n",
    "- This will come in handy later."
   ]
  },
  {
   "cell_type": "code",
   "execution_count": null,
   "metadata": {},
   "outputs": [],
   "source": [
    "# Loop over keys\n",
    "for key in raw_data.keys():\n",
    "    # ... your code to process the key ...\n",
    "\n",
    "# Loop over values\n",
    "for value in raw_data.values():\n",
    "    # ... your code to process the value ...\n",
    "\n",
    "# Loop over keys and values\n",
    "for key, value in raw_data.items():\n",
    "    # Your code here\n",
    "    pass"
   ]
  },
  {
   "cell_type": "markdown",
   "metadata": {},
   "source": [
    ".keys()\n",
    "- Creates a list of keys stored in a dictionary\n",
    "  \n",
    ".values()\n",
    "- Creates a list of values stored in a\n",
    "dictionary\n",
    "\n",
    ".items()\n",
    "- Generates a list of tuples, made up of the\n",
    "key-value pairs"
   ]
  },
  {
   "cell_type": "markdown",
   "metadata": {},
   "source": [
    "# **Parsing data from dictionaries**"
   ]
  },
  {
   "cell_type": "markdown",
   "metadata": {},
   "source": [
    "- In addition to iterating over a dictionary, we'll also want to extract individual values from a dictionary. \n",
    "- We can do this using the dot-get method. get takes a key, and if that key exists in the dictionary, the associated value will be returned. \n",
    "- Otherwise, the return value will be None. \n",
    "- To parse the \"volume\" from the dictionary shown above, \"volume\" is passed to the get method, and the results are stored in the volume variable. \n",
    "- If a second value is passed to the get method, this value will be returned if the key does not exist in the dictionary. \n",
    "- This is best practice when working with JSON data parsed from a file that does not follow a set format. \n",
    "- To parse data from a nested dictionary, the get method can be called twice. \n",
    "- To extract the \"open\" value, get is first called to parse the dictionary stored at key \"price\", before being called again to return the \"open\" value."
   ]
  },
  {
   "cell_type": "code",
   "execution_count": null,
   "metadata": {},
   "outputs": [],
   "source": [
    "entry = {\n",
    "    \"volume\": 1443120000,\n",
    "    \"price\": {\n",
    "        \"open\": 0.12187,\n",
    "        \"close\": 0.09791,\n",
    "    }\n",
    "}\n",
    "\n",
    "# Parse data from dictionary using .get()\n",
    "volume = entry.get(\"volume\") \n",
    "\n",
    "ticker = entry.get(\"ticker\", \"DCHP\") \n",
    "\n",
    "# Call .get() twice to return the nested \"open\" value\n",
    "open_price = entry.get(\"price\").get(\"open\", 0)"
   ]
  },
  {
   "cell_type": "markdown",
   "metadata": {},
   "source": [
    "# **Creating a DataFrame from a list of lists**"
   ]
  },
  {
   "cell_type": "markdown",
   "metadata": {},
   "source": [
    "- Once data has been converted from a dictionary into a list of lists, it can be passed to the pd-dot-DataFrame function to create a new DataFrame. \n",
    "- Column names for the DataFrame can set by assigning a list of columns names to the columns attribute. \n",
    "- The set_index method takes a column name, or list of column names, and creates a new index."
   ]
  },
  {
   "cell_type": "markdown",
   "metadata": {},
   "source": [
    "Pass a list of lists to pd.DataFrame()"
   ]
  },
  {
   "cell_type": "code",
   "execution_count": null,
   "metadata": {},
   "outputs": [],
   "source": [
    "# Pass a list of lists to pd.DataFrame\n",
    "raw_data = pd.DataFrame(flattened_rows)\n",
    "\n",
    "# Create columns\n",
    "raw_data.columns = [\"timestamps\", \"open\", \"close\", \"volume\"]\n",
    "\n",
    "# Set the index column to be \"timestamps\"\n",
    "raw_data.set_index(\"timestamps\")"
   ]
  },
  {
   "cell_type": "markdown",
   "metadata": {},
   "source": [
    "# **Transforming stock data**"
   ]
  },
  {
   "cell_type": "markdown",
   "metadata": {},
   "source": [
    "- Now, let's put it all together. To iterate through the raw_stock_data dictionary, we'll call the items method. \n",
    "- Using a for loop, each key and value in the dictionary can be accessed. \n",
    "- Here, the keys are timestamps, and the values are a dictionary containing the remaining data. \n",
    "- From this nested dictionary, the open, close, and volume values are parsed using the get method, and appended as a list to the parsed_stock_data list. \n",
    "- This list is then converted to a DataFrame using the DataFrame function, and the column names and index are set."
   ]
  },
  {
   "cell_type": "code",
   "execution_count": null,
   "metadata": {},
   "outputs": [],
   "source": [
    "parsed_stock_data = []\n",
    "\n",
    "# Loop through each key-value pair of the raw_stock_data dictionary\n",
    "for timestamp, ticker_info in raw_stock_data.items():\n",
    "    parsed_stock_data.append([\n",
    "        timestamp,\n",
    "        ticker_info.get(\"price\", {}).get(\"open\", 0), # Parse the opening price\n",
    "        ticker_info.get(\"price\", {}).get(\"close\", 0), # Parse the closing price\n",
    "        ticker_info.get(\"volume\", 0) # Parse the volume\n",
    "    ])"
   ]
  },
  {
   "cell_type": "code",
   "execution_count": null,
   "metadata": {},
   "outputs": [],
   "source": [
    "# Create a DataFrame, assign column names, and set an index\n",
    "transformed_stock_data = pd.DataFrame(parsed_stock_data)\n",
    "transformed_stock_data.columns = [\"timestamps\", \"open\", \"close\", \"volume\"]\n",
    "transformed_stock_data = transformed_stock_data.set_index(\"timestamps\")"
   ]
  }
 ],
 "metadata": {
  "language_info": {
   "name": "python"
  }
 },
 "nbformat": 4,
 "nbformat_minor": 2
}
