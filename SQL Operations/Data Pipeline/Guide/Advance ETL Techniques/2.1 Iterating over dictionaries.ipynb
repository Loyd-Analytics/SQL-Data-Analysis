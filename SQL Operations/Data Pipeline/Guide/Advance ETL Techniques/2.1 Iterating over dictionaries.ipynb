{
 "cells": [
  {
   "cell_type": "markdown",
   "metadata": {},
   "source": [
    "# **Iterating over dictionaries**"
   ]
  },
  {
   "cell_type": "markdown",
   "metadata": {},
   "source": [
    "- Once JSON data is loaded into a dictionary, you can leverage Python's built-in tools to iterate over its keys and values.\n",
    "\n",
    "- The \"nested_school_scores.json\" file has been read into a dictionary stored in the raw_testing_scores variable, which takes the following form:"
   ]
  },
  {
   "cell_type": "code",
   "execution_count": null,
   "metadata": {},
   "outputs": [],
   "source": [
    "{\n",
    "    \"01M539\": {\n",
    "        \"street_address\": \"111 Columbia Street\",\n",
    "        \"city\": \"Manhattan\",\n",
    "        \"scores\": {\n",
    "              \"math\": 657,\n",
    "              \"reading\": 601,\n",
    "              \"writing\": 601\n",
    "        }\n",
    "  }, ...\n",
    "}"
   ]
  },
  {
   "cell_type": "markdown",
   "metadata": {},
   "source": [
    "**Instructions**\n",
    "\n",
    "- Loop through the keys of the raw_testing_scores dictionary. Add each key to the raw_testing_scores_keys list."
   ]
  },
  {
   "cell_type": "code",
   "execution_count": null,
   "metadata": {},
   "outputs": [],
   "source": [
    "raw_testing_scores_keys = []\n",
    "\n",
    "# Iterate through the keys of the raw_testing_scores dictionary\n",
    "for school_id in raw_testing_scores.keys():\n",
    "  \t# Append each key to the raw_testing_scores_keys list\n",
    "\traw_testing_scores_keys.append(school_id)\n",
    "    \n",
    "print(raw_testing_scores_keys[0:3])\n"
   ]
  },
  {
   "cell_type": "code",
   "execution_count": null,
   "metadata": {},
   "outputs": [],
   "source": [
    "['02M260', '06M211', '01M539']"
   ]
  },
  {
   "cell_type": "markdown",
   "metadata": {},
   "source": [
    "**Instructions**\n",
    "\n",
    "- Now, loop through a list of values from the raw_testing_scores dictionary."
   ]
  },
  {
   "cell_type": "code",
   "execution_count": null,
   "metadata": {},
   "outputs": [],
   "source": [
    "raw_testing_scores_values = []\n",
    "\n",
    "# Iterate through the values of the raw_testing_scores dictionary\n",
    "for school_info in raw_testing_scores.values():\n",
    "\traw_testing_scores_values.append(school_info)\n",
    "    \n",
    "print(raw_testing_scores_values[0:3])"
   ]
  },
  {
   "cell_type": "code",
   "execution_count": null,
   "metadata": {},
   "outputs": [],
   "source": [
    "[{'street_address': '425 West 33rd Street', 'city': 'Manhattan', 'scores': {'math': None, 'reading': None, 'writing': None}},}]"
   ]
  },
  {
   "cell_type": "markdown",
   "metadata": {},
   "source": [
    "**Instructions**\n",
    "\n",
    "- Finally, loop through both the keys and values of the raw_testing_scores dictionary, simultaneously."
   ]
  },
  {
   "cell_type": "code",
   "execution_count": null,
   "metadata": {},
   "outputs": [],
   "source": [
    "raw_testing_scores_keys = []\n",
    "raw_testing_scores_values = []\n",
    "\n",
    "# Iterate through the values of the raw_testing_scores dictionary\n",
    "for school_id, school_info in raw_testing_scores.items():\n",
    "\traw_testing_scores_keys.append(school_id)\n",
    "\traw_testing_scores_values.append(school_info)\n",
    "\n",
    "print(raw_testing_scores_keys[0:3])\n",
    "print(raw_testing_scores_values[0:3])"
   ]
  },
  {
   "cell_type": "code",
   "execution_count": null,
   "metadata": {
    "vscode": {
     "languageId": "sql"
    }
   },
   "outputs": [],
   "source": [
    "['02M260', '06M211', '01M539']\n",
    "[{'street_address': '425 West 33rd Street', 'city': 'Manhattan', 'scores':}]"
   ]
  }
 ],
 "metadata": {
  "language_info": {
   "name": "python"
  }
 },
 "nbformat": 4,
 "nbformat_minor": 2
}
