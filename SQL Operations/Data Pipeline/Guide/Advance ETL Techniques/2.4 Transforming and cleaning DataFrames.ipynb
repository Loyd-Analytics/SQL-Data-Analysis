{
 "cells": [
  {
   "cell_type": "markdown",
   "metadata": {},
   "source": [
    "# **Transforming and cleaning DataFrames**"
   ]
  },
  {
   "cell_type": "markdown",
   "metadata": {},
   "source": [
    "- Once data has been curated into a cleaned Python data structure, such as a list of lists, it's easy to convert this into a pandas DataFrame. You'll practice doing just this with the data that was curated in the last exercise.\n",
    "\n",
    "- Per usual, pandas has been imported as pd, and the normalized_testing_scores variable stores the list of each schools testing data, as shown below."
   ]
  },
  {
   "cell_type": "code",
   "execution_count": null,
   "metadata": {},
   "outputs": [],
   "source": [
    "[\n",
    "    ['01M539', '111 Columbia Street', 'Manhattan', 657.0, 601.0, 601.0],\n",
    "    ...\n",
    "]   "
   ]
  },
  {
   "cell_type": "markdown",
   "metadata": {},
   "source": [
    "**Instructions**\n",
    "\n",
    "- Create a pandas DataFrame from the list of lists stored in the normalized_testing_scores variable.\n",
    "- Set the columns names for the normalized_data DataFrame."
   ]
  },
  {
   "cell_type": "code",
   "execution_count": null,
   "metadata": {},
   "outputs": [],
   "source": [
    "# Create a DataFrame from the normalized_testing_scores list\n",
    "normalized_data = pd.DataFrame(normalized_testing_scores)\n",
    "\n",
    "# Set the column names\n",
    "normalized_data.columns = [\"school_id\", \"street_address\", \"city\", \"avg_score_math\", \"avg_score_reading\", \"avg_score_writing\"]\n",
    "\n",
    "normalized_data = normalized_data.set_index(\"school_id\")\n",
    "print(normalized_data.head())"
   ]
  },
  {
   "cell_type": "code",
   "execution_count": null,
   "metadata": {
    "vscode": {
     "languageId": "sql"
    }
   },
   "outputs": [],
   "source": [
    "                 street_address       city  avg_score_math  avg_score_reading  avg_score_writing\n",
    "school_id                                                                                       \n",
    "02M260     425 West 33rd Street  Manhattan             NaN                NaN                NaN\n",
    "06M211       650 Academy Street  Manhattan             NaN                NaN                NaN\n",
    "01M539      111 Columbia Street  Manhattan           657.0              601.0              601.0\n",
    "02M294         350 Grand Street  Manhattan           395.0              411.0              387.0\n",
    "02M308         350 Grand Street  Manhattan           418.0              428.0              415.0"
   ]
  }
 ],
 "metadata": {
  "language_info": {
   "name": "python"
  }
 },
 "nbformat": 4,
 "nbformat_minor": 2
}
