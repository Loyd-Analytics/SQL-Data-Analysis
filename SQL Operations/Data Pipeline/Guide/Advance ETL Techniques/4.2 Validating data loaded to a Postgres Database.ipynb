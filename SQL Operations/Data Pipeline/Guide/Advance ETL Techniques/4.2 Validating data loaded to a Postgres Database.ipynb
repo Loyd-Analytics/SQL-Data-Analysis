{
 "cells": [
  {
   "cell_type": "markdown",
   "metadata": {},
   "source": [
    "# **Validating data loaded to a Postgres Database**"
   ]
  },
  {
   "cell_type": "markdown",
   "metadata": {},
   "source": [
    "- In this exercise, you'll finally get to build a data pipeline from end-to-end. This pipeline will extract school testing scores from a JSON file and transform the data to drop rows with missing scores. In addition to this, each will be ranked by the city they are located in, based on their total scores. Finally, the transformed dataset will be stored in a Postgres database.\n",
    "\n",
    "- To give you a head start, the extract() and transform() functions have been built and used as shown below. In addition to this, pandas has been imported as pd."
   ]
  },
  {
   "cell_type": "code",
   "execution_count": null,
   "metadata": {},
   "outputs": [],
   "source": [
    "# Extract and clean the testing scores.\n",
    "raw_testing_scores = extract(\"testing_scores.json\")\n",
    "cleaned_testing_scores = transform(raw_testing_scores)"
   ]
  },
  {
   "cell_type": "markdown",
   "metadata": {},
   "source": [
    "**Instructions**\n",
    "\n",
    "- Update the load() function to write the clean_data DataFrame to the scores_by_city table in the schools database.\n",
    "- If data exists in the scores_by_city table, makes sure to replace it with the updated data."
   ]
  },
  {
   "cell_type": "code",
   "execution_count": null,
   "metadata": {},
   "outputs": [],
   "source": [
    "def load(clean_data, con_engine):\n",
    "\t# Store the data in the schools database\n",
    "    clean_data.to_sql(\n",
    "    \tname=\"scores_by_city\",\n",
    "\t\tcon=con_engine,\n",
    "\t\tif_exists=\"replace\",  # Make sure to replace existing data\n",
    "\t\tindex=True,\n",
    "\t\tindex_label=\"school_id\"\n",
    "    )"
   ]
  },
  {
   "cell_type": "markdown",
   "metadata": {},
   "source": [
    "**Instructions**\n",
    "\n",
    "- Load the data from the cleaned_testing_scores, using the db_engine that has already been defined.\n",
    "- Use pandas to read data from the scores_by_city table, and print the first few rows of the DataFrame to validate that data was persisted."
   ]
  },
  {
   "cell_type": "code",
   "execution_count": null,
   "metadata": {},
   "outputs": [],
   "source": [
    "def load(clean_data, con_engine):\n",
    "    clean_data.to_sql(name=\"scores_by_city\", con=con_engine, if_exists=\"replace\", index=True, index_label=\"school_id\")\n",
    "    \n",
    "# Call the load function, passing in the cleaned DataFrame\n",
    "load(cleaned_testing_scores,db_engine)\n",
    "\n",
    "# Call query the data in the scores_by_city table, check the head of the DataFrame\n",
    "to_validate = pd.read_sql(\"SELECT * FROM scores_by_city\", con=db_engine)\n",
    "print(to_validate.head())"
   ]
  },
  {
   "cell_type": "code",
   "execution_count": null,
   "metadata": {
    "vscode": {
     "languageId": "sql"
    }
   },
   "outputs": [],
   "source": [
    "  school_id       street_address       city  math_score  reading_score  writing_score  city_rank\n",
    "0    01M539  111 Columbia Street  Manhattan       657.0          601.0          601.0        4.0\n",
    "1    02M294     350 Grand Street  Manhattan       395.0          411.0          387.0       54.0\n",
    "2    02M308     350 Grand Street  Manhattan       418.0          428.0          415.0       41.0\n",
    "3    02M545     350 Grand Street  Manhattan       613.0          453.0          463.0       18.0\n",
    "4    01M292     220 Henry Street  Manhattan       410.0          406.0          381.0       52.0"
   ]
  }
 ],
 "metadata": {
  "language_info": {
   "name": "python"
  }
 },
 "nbformat": 4,
 "nbformat_minor": 2
}
