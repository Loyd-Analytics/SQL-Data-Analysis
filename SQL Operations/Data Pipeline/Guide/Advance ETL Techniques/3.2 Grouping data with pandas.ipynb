{
 "cells": [
  {
   "cell_type": "markdown",
   "metadata": {},
   "source": [
    "# **Grouping data with pandas**"
   ]
  },
  {
   "cell_type": "markdown",
   "metadata": {},
   "source": [
    "- The output of a data pipeline is typically a \"modeled\" dataset. This dataset provides data consumers easy access to information, without having to perform much manipulation. Grouping data with pandas helps to build modeled datasets,\n",
    "\n",
    "- pandas has been imported as pd, and the raw_testing_scores DataFrame contains data in the following form:"
   ]
  },
  {
   "cell_type": "code",
   "execution_count": null,
   "metadata": {
    "vscode": {
     "languageId": "sql"
    }
   },
   "outputs": [],
   "source": [
    "              street_address       city  math_score  reading_score  writing_score\n",
    "01M539   111 Columbia Street  Manhattan       657.0          601.0          601.0\n",
    "02M294      350 Grand Street  Manhattan       395.0          411.0          387.0\n",
    "02M308      350 Grand Street  Manhattan       418.0          428.0          415.0"
   ]
  },
  {
   "cell_type": "markdown",
   "metadata": {},
   "source": [
    "**Instructions**\n",
    "\n",
    "- Use .loc[] to only keep the \"city\", \"math_score\", \"reading_score\", and \"writing_score\" columns.\n",
    "- Group the DataFrame by the \"city\" column, and find the mean of each city's math, reading, and writing scores.\n",
    "- Use the transform() function to create a grouped DataFrame."
   ]
  },
  {
   "cell_type": "code",
   "execution_count": null,
   "metadata": {},
   "outputs": [],
   "source": [
    "def transform(raw_data):\n",
    "\t# Use .loc[] to only return the needed columns\n",
    "\traw_data = raw_data.loc[:, [\"city\", \"math_score\", \"reading_score\", \"writing_score\"]]\n",
    "\t\n",
    "    # Group the data by city, return the grouped DataFrame\n",
    "\tgrouped_data = raw_data.groupby(by=[\"city\"], axis=0).mean()\n",
    "\treturn grouped_data\n",
    "\n",
    "# Transform the data, print the head of the DataFrame\n",
    "grouped_testing_scores = transform(raw_testing_scores)\n",
    "print(grouped_testing_scores.head())"
   ]
  },
  {
   "cell_type": "code",
   "execution_count": null,
   "metadata": {
    "vscode": {
     "languageId": "sql"
    }
   },
   "outputs": [],
   "source": [
    "           math_score  reading_score  writing_score\n",
    "city                                               \n",
    "Astoria       509.600        494.800        497.200\n",
    "Bayside       523.000        479.000        485.000\n",
    "Bellerose     453.000        434.000        439.000\n",
    "Bronx         404.357        402.520        395.847\n",
    "Brooklyn      416.404        410.761        403.092"
   ]
  }
 ],
 "metadata": {
  "language_info": {
   "name": "python"
  }
 },
 "nbformat": 4,
 "nbformat_minor": 2
}
