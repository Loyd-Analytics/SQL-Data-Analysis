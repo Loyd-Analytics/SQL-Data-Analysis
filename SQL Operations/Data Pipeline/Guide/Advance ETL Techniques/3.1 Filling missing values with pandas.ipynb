{
 "cells": [
  {
   "cell_type": "markdown",
   "metadata": {},
   "source": [
    "# **Filling missing values with pandas**"
   ]
  },
  {
   "cell_type": "markdown",
   "metadata": {},
   "source": [
    "- When building data pipelines, it's inevitable that you'll stumble upon missing data. In some cases, you may want to remove these records from the dataset. But in others, you'll need to impute values for the missing information. In this exercise, you'll practice using pandas to impute missing test scores.\n",
    "\n",
    "- Data from the file \"testing_scores.json\" has been read into a DataFrame, and is stored in the variable raw_testing_scores. In addition to this, pandas has been loaded as pd."
   ]
  },
  {
   "cell_type": "markdown",
   "metadata": {},
   "source": [
    "**Instructions**\n",
    "\n",
    "- Print the head of the raw_testing_scores DataFrame, and observe the NaN values."
   ]
  },
  {
   "cell_type": "code",
   "execution_count": null,
   "metadata": {},
   "outputs": [],
   "source": [
    "# Print the head of the `raw_testing_scores` DataFrame\n",
    "print(raw_testing_scores.head())"
   ]
  },
  {
   "cell_type": "code",
   "execution_count": null,
   "metadata": {
    "vscode": {
     "languageId": "sql"
    }
   },
   "outputs": [],
   "source": [
    "              street_address       city  math_score  reading_score  writing_score\n",
    "02M260  425 West 33rd Street  Manhattan         NaN            NaN            NaN\n",
    "06M211    650 Academy Street  Manhattan         NaN            NaN            NaN\n",
    "01M539   111 Columbia Street  Manhattan       657.0          601.0          601.0\n",
    "02M294      350 Grand Street  Manhattan       395.0          411.0          387.0\n",
    "02M308      350 Grand Street  Manhattan       418.0          428.0          415.0"
   ]
  },
  {
   "cell_type": "markdown",
   "metadata": {},
   "source": [
    "**Instructions**\n",
    "\n",
    "- Use the average of the \"math_score\" column to fill the NaN values in the \"math_score\" column.\n",
    "- Print the head of the updated DataFrame."
   ]
  },
  {
   "cell_type": "code",
   "execution_count": null,
   "metadata": {},
   "outputs": [],
   "source": [
    "# Fill NaN values with the average from that column\n",
    "raw_testing_scores[\"math_score\"] = raw_testing_scores[\"math_score\"].fillna(raw_testing_scores[\"math_score\"].mean())\n",
    "\n",
    "# Print the head of the raw_testing_scores DataFrame\n",
    "print(raw_testing_scores.head())"
   ]
  },
  {
   "cell_type": "code",
   "execution_count": null,
   "metadata": {
    "vscode": {
     "languageId": "sql"
    }
   },
   "outputs": [],
   "source": [
    "              street_address       city  math_score  reading_score  writing_score\n",
    "02M260  425 West 33rd Street  Manhattan     432.944            NaN            NaN\n",
    "06M211    650 Academy Street  Manhattan     432.944            NaN            NaN\n",
    "01M539   111 Columbia Street  Manhattan     657.000          601.0          601.0\n",
    "02M294      350 Grand Street  Manhattan     395.000          411.0          387.0\n",
    "02M308      350 Grand Street  Manhattan     418.000          428.0          415.0"
   ]
  },
  {
   "cell_type": "markdown",
   "metadata": {},
   "source": [
    "**Instructions**\n",
    "\n",
    "- For the \"math_score\", \"reading_score\" and \"writing_score\" columns, update the transform() function to fill NaN values with the mean of the respective columns, in place.\n",
    "- Print the head of the cleaned DataFrame."
   ]
  },
  {
   "cell_type": "code",
   "execution_count": null,
   "metadata": {},
   "outputs": [],
   "source": [
    "def transform(raw_data):\n",
    "\traw_data.fillna(\n",
    "    \tvalue={\n",
    "\t\t\t# Fill NaN values with column mean\n",
    "\t\t\t\"math_score\": raw_data[\"math_score\"].mean(),\n",
    "\t\t\t\"reading_score\": raw_data[\"reading_score\"].mean(),\n",
    "\t\t\t\"writing_score\": raw_data[\"writing_score\"].mean()\n",
    "\t\t}, inplace=True\n",
    "\t)\n",
    "\treturn raw_data\n",
    "\n",
    "clean_testing_scores = transform(raw_testing_scores)\n",
    "\n",
    "# Print the head of the clean_testing_scores DataFrame\n",
    "print(clean_testing_scores.head())"
   ]
  },
  {
   "cell_type": "code",
   "execution_count": null,
   "metadata": {
    "vscode": {
     "languageId": "sql"
    }
   },
   "outputs": [],
   "source": [
    "              street_address       city  math_score  reading_score  writing_score\n",
    "02M260  425 West 33rd Street  Manhattan     432.944        424.504        418.459\n",
    "06M211    650 Academy Street  Manhattan     432.944        424.504        418.459\n",
    "01M539   111 Columbia Street  Manhattan     657.000        601.000        601.000\n",
    "02M294      350 Grand Street  Manhattan     395.000        411.000        387.000\n",
    "02M308      350 Grand Street  Manhattan     418.000        428.000        415.000"
   ]
  }
 ],
 "metadata": {
  "language_info": {
   "name": "python"
  }
 },
 "nbformat": 4,
 "nbformat_minor": 2
}
