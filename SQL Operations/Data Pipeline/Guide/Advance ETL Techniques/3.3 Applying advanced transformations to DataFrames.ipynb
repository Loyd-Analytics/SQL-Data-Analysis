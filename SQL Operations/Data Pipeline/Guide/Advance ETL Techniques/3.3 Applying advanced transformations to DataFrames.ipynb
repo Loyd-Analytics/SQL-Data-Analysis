{
 "cells": [
  {
   "cell_type": "markdown",
   "metadata": {},
   "source": [
    "# **Applying advanced transformations to DataFrames**"
   ]
  },
  {
   "cell_type": "markdown",
   "metadata": {},
   "source": [
    "- pandas has a plethora of built-in transformation tools, but sometimes, more advanced logic needs to be used in a transformation. The apply function lets you apply a user-defined function to a row or column of a DataFrame, opening the door for advanced transformation and feature generation.\n",
    "\n",
    "- The find_street_name() function parses the street name from the \"street_address\", dropping the street number from the string. This function has been loaded into memory, and is ready to be applied to the raw_testing_scores DataFrame."
   ]
  },
  {
   "cell_type": "markdown",
   "metadata": {},
   "source": [
    "**Instructions**\n",
    "\n",
    "- In the definition of the transform() function, use the find_street_name() function to create a new column with the name \"street_name\".\n",
    "- Use the transform() function to clean the raw_testing_scores DataFrame.\n",
    "- Print the head of the cleaned_testing_scores DataFrame, observing the new \"street_name\" column."
   ]
  },
  {
   "cell_type": "code",
   "execution_count": null,
   "metadata": {},
   "outputs": [],
   "source": [
    "def transform(raw_data):\n",
    "\t# Use the apply function to extract the street_name from the street_address\n",
    "    raw_data[\"street_name\"] = raw_data.apply(\n",
    "   \t\t# Pass the correct function to the apply method\n",
    "        find_street_name,\n",
    "        axis=1\n",
    "    )\n",
    "    return raw_data\n",
    "\n",
    "# Transform the raw_testing_scores DataFrame\n",
    "cleaned_testing_scores = transform(raw_testing_scores)\n",
    "\n",
    "# Print the head of the cleaned_testing_scores DataFrame\n",
    "print(cleaned_testing_scores.head())"
   ]
  },
  {
   "cell_type": "code",
   "execution_count": null,
   "metadata": {
    "vscode": {
     "languageId": "sql"
    }
   },
   "outputs": [],
   "source": [
    "              street_address       city  math_score  reading_score  writing_score       street_name\n",
    "02M260  425 West 33rd Street  Manhattan         NaN            NaN            NaN  West 33rd Street\n",
    "06M211    650 Academy Street  Manhattan         NaN            NaN            NaN    Academy Street\n",
    "01M539   111 Columbia Street  Manhattan       657.0          601.0          601.0   Columbia Street\n",
    "02M294      350 Grand Street  Manhattan       395.0          411.0          387.0      Grand Street\n",
    "02M308      350 Grand Street  Manhattan       418.0          428.0          415.0      Grand Street\n"
   ]
  }
 ],
 "metadata": {
  "language_info": {
   "name": "python"
  }
 },
 "nbformat": 4,
 "nbformat_minor": 2
}
