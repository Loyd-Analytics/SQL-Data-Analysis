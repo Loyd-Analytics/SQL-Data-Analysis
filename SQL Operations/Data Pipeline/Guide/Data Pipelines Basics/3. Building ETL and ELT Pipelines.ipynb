{
 "cells": [
  {
   "cell_type": "markdown",
   "metadata": {},
   "source": []
  },
  {
   "cell_type": "markdown",
   "metadata": {},
   "source": [
    "# **Extract Data from a CSV File**"
   ]
  },
  {
   "cell_type": "markdown",
   "metadata": {},
   "source": [
    "1. First, we need to be able to pull data from a csv file. \n",
    "2. To do this, we can use the pandas library. \n",
    "3. Once we import pandas as pd, we'll call the read_csv function to extract the data from a file and into a DataFrame. \n",
    "4. We must provide a file path to the read_csv function, but there are a number of other optional parameters we could use, such as delimiter, header, and engine. These options are useful for files that may be formatted a little bit differently. \n",
    "5. If we'd like to view the first few rows of a DataFrame, we can do this using the head method. By default, it will output the first five rows."
   ]
  },
  {
   "cell_type": "code",
   "execution_count": null,
   "metadata": {},
   "outputs": [],
   "source": [
    "import pandas as pd\n",
    "# Read in the CSV file to a DataFrame\n",
    "data_frame = pd.read_csv(\"raw_data.csv\")"
   ]
  },
  {
   "cell_type": "code",
   "execution_count": null,
   "metadata": {},
   "outputs": [],
   "source": [
    "# Output the first few rows\n",
    "data_frame.head()"
   ]
  },
  {
   "cell_type": "markdown",
   "metadata": {},
   "source": [
    "\n",
    "\n",
    "| name        | num_firms | total_income |\n",
    "|-------------|------------|---------------|\n",
    "| Advertising | 58         | 3892.41        |\n",
    "| Apparel     | 39         | 5422.69        |\n",
    "| ...         | ...        | ...           |\n",
    "| Trucking    | 35         | 17324.36       |"
   ]
  },
  {
   "cell_type": "markdown",
   "metadata": {},
   "source": [
    "`read_csv()`\n",
    "\n",
    "* Takes a file path, returns a DataFrame\n",
    "* `delimiter`, `header`, `engine`\n",
    "\n",
    "`.head()`\n",
    "\n",
    "* Outputs the first `n` number of a DataFrame"
   ]
  },
  {
   "cell_type": "markdown",
   "metadata": {},
   "source": [
    "# **Filtering a DataFrame**"
   ]
  },
  {
   "cell_type": "markdown",
   "metadata": {},
   "source": [
    "1. Once we've extracted data into a DataFrame, we can begin to filter it. \n",
    "2. On the left is a DataFrame immediately after it's been extracted from a csv file. \n",
    "3. We'd like to transform it to look like the DataFrame on the right. \n",
    "4. To do this, we can use loc. loc is called on a DataFrame, and allows for its rows and columns of a DataFrame to be filtered. \n",
    "5. Here, we're first filtering the DataFrame to only include rows that have the \"name\" \"Apparel\". \n",
    "6. After the comma, is a colon. \n",
    "7. This denotes that all columns should kept. \n",
    "8. Next, the DataFrame is filtered to only include the columns \"name\" and \"num_firms\". \n",
    "9. We'll touch more on loc later in the course."
   ]
  },
  {
   "cell_type": "markdown",
   "metadata": {},
   "source": [
    "Transform the table from this\n",
    "\n",
    "| name       | num_firms | total_income |\n",
    "|------------|------------|---------------|\n",
    "| Advertising | 58         | 3892.41       |\n",
    "| Apparel     | 39         | 5422.69       |\n",
    "| ...         | ...        | ...           |\n",
    "| Trucking    | 35         | 17324.36      |"
   ]
  },
  {
   "cell_type": "markdown",
   "metadata": {},
   "source": [
    "To this\n",
    "\n",
    "| Index | name     | num_firms |\n",
    "|-------|-----------|------------|\n",
    "| 1     | Apparel   | 39         |\n",
    "| 37    | Apparel   | 61         |"
   ]
  },
  {
   "cell_type": "code",
   "execution_count": null,
   "metadata": {},
   "outputs": [],
   "source": [
    "# First, by rows\n",
    "data_frame.loc[data_frame[\"name\"] == \"Apparel\", :]\n",
    "\n",
    "# Then, by columns\n",
    "data_frame.loc[:, [\"name\", \"num_firms\"]]"
   ]
  },
  {
   "cell_type": "markdown",
   "metadata": {},
   "source": [
    "`.loc`\n",
    "\n",
    "• Filters a DataFrame\n",
    "• `:` means \"all\""
   ]
  },
  {
   "cell_type": "markdown",
   "metadata": {},
   "source": [
    "# **Write a DataFrame to a CSV File**"
   ]
  },
  {
   "cell_type": "markdown",
   "metadata": {},
   "source": [
    "1. To load data to a file, we can use the to_csv method. \n",
    "2. We'll call this method on a DataFrame, and pass in a file path. \n",
    "3. Then, this DataFrame will be stored using the file path we provided. \n",
    "4. Like with read_csv, there are a number of other parameters that can be used with the to_csv method to customize how the file is written. \n",
    "5. Along with to_csv, other options like to_json, to_excel, and to_sql can be used to load data."
   ]
  },
  {
   "cell_type": "code",
   "execution_count": null,
   "metadata": {},
   "outputs": [],
   "source": [
    "# Write a DataFrame to a .csv file\n",
    "data_frame.to_csv(\"cleaned_data.csv\")"
   ]
  },
  {
   "cell_type": "markdown",
   "metadata": {},
   "source": [
    "`.to_csv()`\n",
    "\n",
    "• Takes a `path`, creates DataFrame from file stored at that `path`\n",
    "\n",
    "• Can take other parameters to customize the output\n",
    "\n",
    "Other options, like:\n",
    "\n",
    "`.to_json()`, `.to_excel()`, `.to_sql()`"
   ]
  },
  {
   "cell_type": "markdown",
   "metadata": {},
   "source": [
    "# **Running SQL Queries**"
   ]
  },
  {
   "cell_type": "markdown",
   "metadata": {},
   "source": [
    "1. Sometimes, we'll want to use SQL to transform data in a data warehouse. \n",
    "2. To do this, we can write SQL queries using multi-line strings, like this. \n",
    "3. Then, we can use a Python client, like SQLAlchemy, or the Snowflake Python Connector, to execute queries. \n",
    "4. Here, we use the execute method to run a SQL query and create a new table."
   ]
  },
  {
   "cell_type": "code",
   "execution_count": null,
   "metadata": {},
   "outputs": [],
   "source": [
    "data_warehouse.execute( # Use Python clients or other tools to run SQL queries\n",
    "    \"\"\"\n",
    "    CREATE TABLE total_sales AS\n",
    "    SELECT\n",
    "        ds,\n",
    "        SUM(sales)\n",
    "    FROM\n",
    "        raw_sales_data\n",
    "    GROUP BY ds;\n",
    "    \"\"\"\n",
    ")"
   ]
  },
  {
   "cell_type": "markdown",
   "metadata": {},
   "source": [
    "• Tools like `.execute()` to run SQL queries"
   ]
  },
  {
   "cell_type": "markdown",
   "metadata": {},
   "source": [
    "# **Putting it all together!**"
   ]
  },
  {
   "cell_type": "markdown",
   "metadata": {},
   "source": [
    "1. Putting it all together looks something like this. \n",
    "2. We'll start by adding our ETL logic to extract, transform, and load functions. \n",
    "3. Here's what a transform function might look like. Then, we'll call each of these functions. \n",
    "4. First, we'll extract data from a file using the extract function. \n",
    "5. Then, we'll transform this DataFrame to include rows with the name \"Apparel\". \n",
    "6. Finally, we'll load the transformed DataFrame to a file called \"cleaned_data.csv\". \n",
    "7. Throughout the course, this is how almost all of our ETL and ELT pipelines will be written!"
   ]
  },
  {
   "cell_type": "code",
   "execution_count": null,
   "metadata": {},
   "outputs": [],
   "source": [
    "# Define extract(), transform(), and load() functions\n",
    "def transform(data_frame, value):\n",
    "  return data_frame.loc[data_frame[\"name\"] == value, [\"name\", \"num_firms\"]]\n",
    "\n",
    "# First, extract data from a .csv\n",
    "extracted_data = extract(file_name=\"raw_data.csv\")\n",
    "\n",
    "# Then, transform the 'extracted_data'\n",
    "transformed_data = transform(data_frame=extracted_data, value=\"Apparel\")\n",
    "\n",
    "# Finally, load the 'transformed_data'\n",
    "Load(data_frame=transformed_data, file_name=\"cleaned_data.csv\")"
   ]
  },
  {
   "cell_type": "code",
   "execution_count": null,
   "metadata": {},
   "outputs": [],
   "source": [
    "def transform(data_frame, value):\n",
    "  return data_frame.loc[data_frame[\"name\"] == value, [\"name\", \"num_firms\"]]"
   ]
  },
  {
   "cell_type": "markdown",
   "metadata": {},
   "source": [
    "**Explanation:**\n",
    "\n",
    "- The transform() function is designed to transform the data passed to it.\n",
    "- data_frame: This is the input DataFrame that is being transformed.\n",
    "- value: This is a filter value used to select rows based on the condition applied to the name column.\n",
    "- data_frame.loc[]: This is a powerful indexing method in pandas that allows for conditional selection of data. Here, it's used to:\n",
    "  - Filter rows where the name column equals the given value (e.g., \"Apparel\").\n",
    "  - Select specific columns (\"name\" and \"num_firms\").\n",
    "\n",
    "**How it works:**\n",
    "\n",
    "- The data_frame.loc[data_frame[\"name\"] == value] part filters the DataFrame to only include rows where the name column matches the provided value.\n",
    "- The second argument [\"name\", \"num_firms\"] specifies that only the name and num_firms columns should be returned for those filtered rows."
   ]
  }
 ],
 "metadata": {
  "language_info": {
   "name": "python"
  }
 },
 "nbformat": 4,
 "nbformat_minor": 2
}
