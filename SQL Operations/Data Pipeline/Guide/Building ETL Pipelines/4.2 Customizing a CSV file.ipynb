{
 "cells": [
  {
   "cell_type": "markdown",
   "metadata": {},
   "source": [
    "# **Customizing a CSV file**"
   ]
  },
  {
   "cell_type": "markdown",
   "metadata": {},
   "source": [
    "- Sometimes, data needs to be stored in a CSV file in a customized manner. This may include using different header values, including or excluding the index column of a DataFrame, or altering the character used to separate columns. In this example, you'll get to practice this, as well as ensuring that the file is stored in the desired file path.\n",
    "\n",
    "- The pandas library has been imported as pd, and the data has already been transformed to include only rows with a \"Quantity Ordered\" greater than one. The cleaned DataFrame is stored in a variable named clean_sales_data."
   ]
  },
  {
   "cell_type": "markdown",
   "metadata": {},
   "source": [
    "**Instructions**\n",
    "\n",
    "- Import the os library.\n",
    "- Write the cleaned DataFrame to a CSV stored at path_to_write, without a header.\n",
    "- Ensure the file was written to the desired path."
   ]
  },
  {
   "cell_type": "code",
   "execution_count": null,
   "metadata": {},
   "outputs": [],
   "source": [
    "# Import the os library\n",
    "import os \n",
    "\n",
    "# Load the data to a csv file with the index, no header and pipe separated\n",
    "def load(clean_data, path_to_write):\n",
    "\tclean_data.to_csv(path_to_write, header=False, sep=\"|\")\n",
    "\n",
    "load(clean_sales_data, \"clean_sales_data.csv\")\n",
    "\n",
    "# Check that the file is present.\n",
    "file_exists = os.path.exists(\"clean_sales_data.csv\")\n",
    "print(file_exists)"
   ]
  },
  {
   "cell_type": "code",
   "execution_count": null,
   "metadata": {
    "vscode": {
     "languageId": "sql"
    }
   },
   "outputs": [],
   "source": [
    "True"
   ]
  }
 ],
 "metadata": {
  "language_info": {
   "name": "python"
  }
 },
 "nbformat": 4,
 "nbformat_minor": 2
}
