{
 "cells": [
  {
   "cell_type": "markdown",
   "metadata": {},
   "source": [
    "# **Transforming sales data with pandas**"
   ]
  },
  {
   "cell_type": "markdown",
   "metadata": {},
   "source": [
    "- Before insights can be extracted from a dataset, column types may need to be altered to properly leverage the data. This is especially common with temporal data types, which can be stored in several different ways.\n",
    "\n",
    "  For this example, pandas has been imported as pd and is ready for you to use."
   ]
  },
  {
   "cell_type": "markdown",
   "metadata": {},
   "source": [
    "**Instructions**\n",
    "\n",
    "- Update the transform() function to convert data in the \"Order Date\" column to type datetime.\n",
    "- Filter the DataFrame to only contain rows with \"Price Each\" less than ten dollars.\n",
    "- Print the data types of each column in the DataFrame."
   ]
  },
  {
   "cell_type": "code",
   "execution_count": null,
   "metadata": {},
   "outputs": [],
   "source": [
    "raw_sales_data = extract(\"sales_data.csv\")\n",
    "\n",
    "def transform(raw_data):\n",
    "    # Convert the \"Order Date\" column to type datetime\n",
    "    raw_data[\"Order Date\"] = pd.to_datetime(raw_data[\"Order Date\"], format=\"%m/%d/%y %H:%M\")\n",
    "    \n",
    "    # Only keep items under ten dollars\n",
    "    clean_data = raw_data.loc[raw_data[\"Price Each\"] < 10, :]\n",
    "    return clean_data\n",
    "\n",
    "clean_sales_data = transform(raw_sales_data)\n",
    "\n",
    "# Check the data types of each column\n",
    "print(clean_sales_data.dtypes)"
   ]
  },
  {
   "cell_type": "code",
   "execution_count": null,
   "metadata": {
    "vscode": {
     "languageId": "sql"
    }
   },
   "outputs": [],
   "source": [
    "Order ID                     int64\n",
    "Product                     object\n",
    "Quantity Ordered             int64\n",
    "Price Each                 float64\n",
    "Order Date          datetime64[ns]\n",
    "Purchase Address            object\n",
    "dtype: object"
   ]
  }
 ],
 "metadata": {
  "language_info": {
   "name": "python"
  }
 },
 "nbformat": 4,
 "nbformat_minor": 2
}
