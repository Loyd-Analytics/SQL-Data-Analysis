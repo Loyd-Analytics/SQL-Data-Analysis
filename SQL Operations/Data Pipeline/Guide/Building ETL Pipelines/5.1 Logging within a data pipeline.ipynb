{
 "cells": [
  {
   "cell_type": "markdown",
   "metadata": {},
   "source": [
    "# **Logging within a data pipeline**"
   ]
  },
  {
   "cell_type": "markdown",
   "metadata": {},
   "source": [
    "- In this exercise, we'll take a look back at the function you wrote in a previous video and practice adding logging to the function. This will help when troubleshooting errors or making changes to the logic!\n",
    "\n",
    "- pandas has been imported as pd. In addition to this, the logging module has been imported, and the default log-level has been set to \"debug\"."
   ]
  },
  {
   "cell_type": "markdown",
   "metadata": {},
   "source": [
    "**Instructions**\n",
    "\n",
    "- Create an info-level log after the transformation, passing the string: \"Transformed 'Order Date' column to type 'datetime'.\"\n",
    "- Log the .shape of the DataFrame at the debug-level before and after filtering."
   ]
  },
  {
   "cell_type": "code",
   "execution_count": null,
   "metadata": {},
   "outputs": [],
   "source": [
    "def transform(raw_data):\n",
    "    raw_data[\"Order Date\"] = pd.to_datetime(raw_data[\"Order Date\"], format=\"%m/%d/%y %H:%M\")\n",
    "    clean_data = raw_data.loc[raw_data[\"Price Each\"] < 10, :]\n",
    "    \n",
    "    # Create an info log regarding transformation\n",
    "    logging.info(\"Transformed 'Order Date' column to type 'datetime'.\")\n",
    "    \n",
    "    # Create debug-level logs for the DataFrame before and after filtering\n",
    "    logging.debug(f\"Shape of the DataFrame before filtering: {raw_data.shape}\")\n",
    "    logging.debug(f\"Shape of the DataFrame after filtering: {clean_data.shape}\")\n",
    "    \n",
    "    return clean_data\n",
    "  \n",
    "clean_sales_data = transform(raw_sales_data)"
   ]
  },
  {
   "cell_type": "code",
   "execution_count": null,
   "metadata": {
    "vscode": {
     "languageId": "sql"
    }
   },
   "outputs": [],
   "source": [
    "INFO: Transformed 'Order Date' column to type 'datetime'.\n",
    "DEBUG: Shape of the DataFrame before filtering: (282, 6)\n",
    "DEBUG: Shape of the DataFrame after filtering: (67, 6)"
   ]
  }
 ],
 "metadata": {
  "language_info": {
   "name": "python"
  }
 },
 "nbformat": 4,
 "nbformat_minor": 2
}
