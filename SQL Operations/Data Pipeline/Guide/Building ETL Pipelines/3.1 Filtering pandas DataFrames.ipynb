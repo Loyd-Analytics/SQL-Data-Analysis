{
 "cells": [
  {
   "cell_type": "markdown",
   "metadata": {},
   "source": [
    "# **Filtering pandas DataFrames**"
   ]
  },
  {
   "cell_type": "markdown",
   "metadata": {},
   "source": [
    "- Once data has been extracted from a source system, it's time to transform it! Often, source data may have more information than what is needed for downstream use cases. If this is the case, dimensionality should be reduced during the \"transform\" phase of the data pipeline.\n",
    "\n",
    "- pandas has been imported as pd, and the extract() function is available to load a DataFrame from the path that is passed."
   ]
  },
  {
   "cell_type": "markdown",
   "metadata": {},
   "source": [
    "**Instructions**\n",
    "\n",
    "- Use the extract() function to load the DataFrame stored in the \"sales_data.parquet\" path.\n",
    "- Update the transform() function to return all rows and columns with \"Quantity Ordered\" greater than 1.\n",
    "- Further filter the clean_data DataFrame to only include columns \"Order Date\", \"Quantity Ordered\" and \"Purchase Address\".\n",
    "- Return the filtered DataFrame."
   ]
  },
  {
   "cell_type": "code",
   "execution_count": null,
   "metadata": {},
   "outputs": [],
   "source": [
    "# Extract data from the sales_data.parquet path\n",
    "raw_sales_data = extract(\"sales_data.parquet\")\n",
    "\n",
    "def transform(raw_data):\n",
    "  \t# Only keep rows with `Quantity Ordered` greater than 1\n",
    "    clean_data = raw_data.loc[raw_data['Quantity Ordered'] > 1, :]\n",
    "    \n",
    "    # Only keep columns \"Order Date\", \"Quantity Ordered\", and \"Purchase Address\"\n",
    "    clean_data = clean_data.loc[:,['Order Date', 'Quantity Ordered',    'Purchase Address']]\n",
    "    \n",
    "    # Return the filtered DataFrame\n",
    "    return clean_data\n",
    "    \n",
    "transform(raw_sales_data)"
   ]
  },
  {
   "cell_type": "code",
   "execution_count": null,
   "metadata": {
    "vscode": {
     "languageId": "sql"
    }
   },
   "outputs": [],
   "source": [
    "         Order Date  Quantity Ordered                          Purchase Address\n",
    "2    10/24/19 17:20                 2      967 12th St, New York City, NY 10001\n",
    "41   10/31/19 19:06                 2    263 Willow St, San Francisco, CA 94016\n",
    "44    10/9/19 20:27                 3         11 Lakeview St, Seattle, WA 98101\n",
    "52    10/1/19 21:32                 2      110 Hill St, San Francisco, CA 94016\n",
    "57   10/16/19 19:13                 2            280 8th St, Portland, OR 97035\n",
    "63    10/18/19 8:54                 2      791 Forest St, Los Angeles, CA 90001\n",
    "68   10/31/19 22:54                 2             64 Lake St, Atlanta, GA 30301 \n",
    "80    10/26/19 0:30                 2     23 Walnut St, San Francisco, CA 94016\n",
    "93   10/18/19 21:47                 2       145 River St, Los Angeles, CA 90001\n",
    "113   10/6/19 12:22                 3              512 1st St, Austin, TX 73301\n",
    "125  10/12/19 19:49                 2       874 1st St, New York City, NY 10001\n",
    "146  10/23/19 20:00                 2        670 West St, Los Angeles, CA 90001\n",
    "156  10/16/19 14:48                 2   68 Chestnut St, New York City, NY 10001\n",
    "157  10/14/19 11:54                 4     817 Maple St, San Francisco, CA 94016\n",
    "158   10/3/19 13:05                 2       237 Adams St, Los Angeles, CA 90001\n",
    "182  10/19/19 17:38                 3  730 Lakeview St, New York City, NY 10001\n",
    "186   10/2/19 16:01                 2      387 12th St, San Francisco, CA 94016\n",
    "190   10/19/19 7:27                 4       545 7th St, New York City, NY 10001\n",
    "192   10/22/19 0:11                 2             227 Lake St, Boston, MA 02215\n",
    "196  10/22/19 18:05                 2          113 Spruce St, Seattle, WA 98101\n",
    "200  10/24/19 16:14                 2              359 6th St, Dallas, TX 75001\n",
    "216   10/21/19 9:25                 2             358 8th St, Seattle, WA 98101\n",
    "219   10/31/19 2:08                 2  312 Highland St, New York City, NY 10001\n",
    "220  10/21/19 10:38                 2        50 7th St, New York City, NY 10001\n",
    "223  10/26/19 10:53                 2    668 Church St, San Francisco, CA 94016\n",
    "226    10/1/19 5:32                 3          434 Center St, Seattle, WA 98101\n",
    "246  10/18/19 10:06                 5     165 Lincoln St, Los Angeles, CA 90001\n",
    "251    10/2/19 3:48                 2           435 Cedar St, Seattle, WA 98101\n",
    "254    10/9/19 3:13                 2     594 Lincoln St, Los Angeles, CA 90001\n",
    "264  10/25/19 15:00                 4          554 North St, Portland, OR 97035\n",
    "268   10/2/19 22:45                 3     282 North St, New York City, NY 10001\n",
    "269   10/6/19 22:34                 3      809 Sunset St, Los Angeles, CA 90001\n",
    "280  10/22/19 15:15                 2           419 South St, Seattle, WA 98101"
   ]
  }
 ],
 "metadata": {
  "language_info": {
   "name": "python"
  }
 },
 "nbformat": 4,
 "nbformat_minor": 2
}
