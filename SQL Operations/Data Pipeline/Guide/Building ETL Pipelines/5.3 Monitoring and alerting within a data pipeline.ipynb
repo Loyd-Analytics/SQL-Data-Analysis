{
 "cells": [
  {
   "cell_type": "markdown",
   "metadata": {},
   "source": [
    "# **Monitoring and alerting within a data pipeline**"
   ]
  },
  {
   "cell_type": "markdown",
   "metadata": {},
   "source": [
    "- It's time to put it all together! You might have guessed it, but using handling errors using try-except and logging go hand-in-hand. These two practices are essential for a pipeline to be resilient and transparent, and are the building blocks for more advanced monitoring and alerting solutions.\n",
    "\n",
    "- pandas has been imported as pd, and the logging module has been loaded and configured for you. The raw_sales_data DataFrame has been extracted, and is ready to be transformed."
   ]
  },
  {
   "cell_type": "markdown",
   "metadata": {},
   "source": [
    "**Instructions**\n",
    "\n",
    "- Create an info-level logging message to document success, and a warning-level logging message if the transformation fails."
   ]
  },
  {
   "cell_type": "code",
   "execution_count": null,
   "metadata": {},
   "outputs": [],
   "source": [
    "def transform(raw_data):\n",
    "\treturn raw_data.loc[raw_data[\"Total Price\"] > 1000, :]\n",
    "\n",
    "try:\n",
    "\t# Attempt to transform DataFrame, log an info-level message\n",
    "\tclean_sales_data = transform(raw_sales_data)\n",
    "\tlogging.info(\"Successfully filtered DataFrame by 'Total Price'\")\n",
    "\t\n",
    "except Exception:\n",
    "\t# Log a warning-level message\n",
    "\tlogging.warning(\"Cannot filter DataFrame by 'Total Price'\")"
   ]
  },
  {
   "cell_type": "markdown",
   "metadata": {},
   "source": [
    "**Instructions**\n",
    "\n",
    "- Update the try-except clause to catch a KeyError, and alias as ke.\n",
    "- Change the warning-level log to include the error being thrown."
   ]
  },
  {
   "cell_type": "code",
   "execution_count": null,
   "metadata": {},
   "outputs": [],
   "source": [
    "def transform(raw_data):\n",
    "\treturn raw_data.loc[raw_data[\"Total Price\"] > 1000, :]\n",
    "\n",
    "try:\n",
    "\tclean_sales_data = transform(raw_sales_data)\n",
    "\tlogging.info(\"Successfully filtered DataFrame by 'Total Price'\")\n",
    "\t\n",
    "# Update the exception to be a KeyError, alias as ke\n",
    "except KeyError as ke:\n",
    "\t# Log a warning-level message\n",
    "\tlogging.warning(f\"{ke}: Cannot filter DataFrame by 'Total Price'\")"
   ]
  },
  {
   "cell_type": "markdown",
   "metadata": {},
   "source": [
    "**Instructions**\n",
    "\n",
    "- If a key error is thrown, create a column \"Total Price\" by multiplying the \"Price Each\" and \"Quantity Ordered\" columns."
   ]
  },
  {
   "cell_type": "code",
   "execution_count": null,
   "metadata": {},
   "outputs": [],
   "source": [
    "def transform(raw_data):\n",
    "\treturn raw_data.loc[raw_data[\"Total Price\"] > 1000, :]\n",
    "\n",
    "try:\n",
    "\tclean_sales_data = transform(raw_sales_data)\n",
    "\tlogging.info(\"Successfully filtered DataFrame by 'Total Price'\")\n",
    "\n",
    "except KeyError as ke:\n",
    "\tlogging.warning(f\"{ke}: Cannot filter DataFrame by 'Total Price'\")\n",
    "\t\n",
    "\t# Create the \"Total Price\" column, transform the updated DataFrame\n",
    "\traw_sales_data[\"Total Price\"] = raw_sales_data[\"Price Each\"] * raw_sales_data[\"Quantity Ordered\"]\n",
    "\tclean_sales_data = transform(raw_sales_data)"
   ]
  }
 ],
 "metadata": {
  "kernelspec": {
   "display_name": "Python 3",
   "language": "python",
   "name": "python3"
  },
  "language_info": {
   "name": "python",
   "version": "3.13.0"
  }
 },
 "nbformat": 4,
 "nbformat_minor": 2
}
