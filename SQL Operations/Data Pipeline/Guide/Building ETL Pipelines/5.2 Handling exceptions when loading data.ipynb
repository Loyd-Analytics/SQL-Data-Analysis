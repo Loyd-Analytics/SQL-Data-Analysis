{
 "cells": [
  {
   "cell_type": "markdown",
   "metadata": {},
   "source": [
    "# **Handling exceptions when loading data**"
   ]
  },
  {
   "cell_type": "markdown",
   "metadata": {},
   "source": [
    "- Sometimes, your data pipelines might throw an exception. These exceptions are a form of alerting, and they let a Data Engineer know when something unexpected happened. It's important to properly handle these exceptions. In this exercise, we'll practice just that!\n",
    "\n",
    "- To help get you started, pandas has been imported as pd, along with the logging module has been imported. The default log-level has been set to \"debug\"."
   ]
  },
  {
   "cell_type": "markdown",
   "metadata": {},
   "source": [
    "**Instructions**\n",
    "\n",
    "- Update the pipeline to include a try block, and attempt to read the data from the path \"sales_data.parquet\".\n",
    "- Catch a FileNotFoundError if the file is not able to be read into a pandas DataFrame.\n",
    "- Create an error-level log to document the failure."
   ]
  },
  {
   "cell_type": "code",
   "execution_count": null,
   "metadata": {},
   "outputs": [],
   "source": [
    "def extract(file_path):\n",
    "    return pd.read_parquet(file_path)\n",
    "\n",
    "# Update the pipeline to include a try block\n",
    "try:\n",
    "\t# Attempt to read in the file\n",
    "    raw_sales_data = extract(\"sales_data.parquet\")\n",
    "\t\n",
    "# Catch the FileNotFoundError\n",
    "except FileNotFoundError  as file_not_found:\n",
    "\t# Write an error-level log\n",
    "\tlogging.error(file_not_found)"
   ]
  }
 ],
 "metadata": {
  "language_info": {
   "name": "python"
  }
 },
 "nbformat": 4,
 "nbformat_minor": 2
}
