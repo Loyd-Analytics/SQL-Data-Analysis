{
 "cells": [
  {
   "cell_type": "markdown",
   "metadata": {},
   "source": [
    "# **Transforming data in a pipeline**"
   ]
  },
  {
   "cell_type": "markdown",
   "metadata": {},
   "source": [
    "- In a data pipeline, transforming data correctly is one of the most important measures of success of a data solution. \n",
    "- If data is curated in an incorrect format, or information is lost through the transformation process, downstream users may not be able to generate value from the output of a data pipeline. \n",
    "- Using pandas, it's easy to transform data. pandas provides powerful tools to manipulate tabular data, most of which can be executed in a single line of code. \n",
    "- With pandas, the sky's the limit. Rows can be filtered, columns can be created, data types can be changed, and so much more. \n",
    "- We'll explore loc and to_datetime to transform data."
   ]
  },
  {
   "attachments": {
    "image.png": {
     "image/png": "[encoded data removed]"
    }
   },
   "cell_type": "markdown",
   "metadata": {},
   "source": [
    "![image.png](attachment:image.png)"
   ]
  },
  {
   "cell_type": "markdown",
   "metadata": {},
   "source": [
    "`pandas` provides powerful tools to transform tabular data\n",
    "\n",
    "- `.loc[]`\n",
    "\n",
    "- `.to_datetime()`"
   ]
  },
  {
   "cell_type": "markdown",
   "metadata": {},
   "source": [
    "# **Filtering records with .loc[]**"
   ]
  },
  {
   "cell_type": "markdown",
   "metadata": {},
   "source": [
    "- loc is used to filter DataFrames by row and column values, and is one of the most widely-used tools for manipulating DataFrames. \n",
    "- In our first statement, loc is called on the raw_stock_data DataFrame to keep only records with an \"open\" value greater than zero. \n",
    "- The statement inside the brackets creates an array of boolean values, with entry True if \"open\" is greater than 0, and False otherwise. \n",
    "- The colon after the comma signifies that all columns should be included in the resulting DataFrame. \n",
    "- In our second example, loc is used to filter all columns except \"timestamps\", \"open\", and \"close\". \n",
    "- All rows are maintained. These two statements can be combined into one! In a single line of code, all records with \"open\" greater than zero, and columns with labels \"timestamps\", \"open\", and \"close\" are preserved. \n",
    "- loc has a counterpart, iloc. iloc uses integer indexing, rather than loc's label-based and boolean indexing. \n",
    "- Here, iloc is used to return the first fifty rows and three columns of the DataFrame."
   ]
  },
  {
   "cell_type": "markdown",
   "metadata": {},
   "source": [
    "Filtering records with .loc[]\n",
    "\n",
    "- `.loc[]` allows for both dimensions of a DataFrame to be transformed"
   ]
  },
  {
   "cell_type": "code",
   "execution_count": null,
   "metadata": {},
   "outputs": [],
   "source": [
    "# Keep only non-zero entries\n",
    "cleaned = raw_stock_data.loc[raw_stock_data[\"open\"] > 0, :]"
   ]
  },
  {
   "cell_type": "code",
   "execution_count": null,
   "metadata": {},
   "outputs": [],
   "source": [
    "# Remove excess columns\n",
    "cleaned = raw_stock_data.loc[:, [\"timestamps\", \"open\", \"close\"]]"
   ]
  },
  {
   "cell_type": "code",
   "execution_count": null,
   "metadata": {},
   "outputs": [],
   "source": [
    "# Combine into one step\n",
    "cleaned = raw_stock_data.loc[raw_stock_data[\"open\"] > 0, [\"timestamps\", \"open\", \"close\"]]"
   ]
  },
  {
   "cell_type": "markdown",
   "metadata": {},
   "source": [
    "- `.iloc[]` uses integer indexing to filter DataFrames"
   ]
  },
  {
   "cell_type": "code",
   "execution_count": null,
   "metadata": {},
   "outputs": [],
   "source": [
    "cleaned = raw_stock_data.iloc[[0:50], [0, 1, 2]]"
   ]
  },
  {
   "cell_type": "markdown",
   "metadata": {},
   "source": [
    "# **Altering data types**"
   ]
  },
  {
   "cell_type": "markdown",
   "metadata": {},
   "source": [
    "- Often, DataFrames contain columns whose data types need to be converted to a different type. \n",
    "- In particular, we'll take a look at transforming columns to type datetime using the to_datetime function. \n",
    "- The to_datetime function takes a single column to be converted to type datetime. \n",
    "- Here, the \"timestamps\" column is converted from a string in the format \"YYYYmmddHHMMSS\" to type datetime, using the format-string passed. \n",
    "- Our second example shows an integer also being converted to type datetime. \n",
    "- This integer represents the number of milliseconds that have elapsed since January 1, 1970, sometimes called a \"Unix timestamp\". \n",
    "- Timestamps are often the most difficult data type to work with, but pandas built-in functionality makes this a little easier. \n",
    "- Besides to_datetime, pandas offers several other tools to wrangle and transform data types."
   ]
  },
  {
   "cell_type": "markdown",
   "metadata": {},
   "source": [
    "Altering data types\n",
    "\n",
    "- Data types often need to be converted for downstream use cases\n",
    "\n",
    "  .to_datetime()"
   ]
  },
  {
   "cell_type": "code",
   "execution_count": null,
   "metadata": {},
   "outputs": [],
   "source": [
    "# \"timestamps\" column correctly looks like: \"20230101085731\"\n",
    "# Convert \"timestamps\" column to type datetime\n",
    "cleaned[\"timestamps\"] = pd.to_datetime(cleaned[\"timestamps\"], format=\"%Y%m%d%H%M%S\")"
   ]
  },
  {
   "cell_type": "code",
   "execution_count": null,
   "metadata": {
    "vscode": {
     "languageId": "sql"
    }
   },
   "outputs": [],
   "source": [
    "Timestamp('2023-01-01 08:57:31')"
   ]
  },
  {
   "cell_type": "code",
   "execution_count": null,
   "metadata": {},
   "outputs": [],
   "source": [
    "# \"timestamps\" column currently looks like: 1681596000011\n",
    "# Convert \"timestamps\" column to type datatime\n",
    "cleaned[\"timestamps\"] = pd.to_datetime(cleaned[\"timestamps\"], unit=\"ms\")"
   ]
  },
  {
   "cell_type": "code",
   "execution_count": null,
   "metadata": {
    "vscode": {
     "languageId": "sql"
    }
   },
   "outputs": [],
   "source": [
    "Timestamp ('2023-04-15 22:00:00.011000')"
   ]
  },
  {
   "cell_type": "markdown",
   "metadata": {},
   "source": [
    "# **Validating transformations**"
   ]
  },
  {
   "cell_type": "markdown",
   "metadata": {},
   "source": [
    "- Any time data is manipulated, there's a risk of losing valuable information, or creating faulty data. \n",
    "- Validating transformation helps to mitigate these risks. For now, we'll explore a few tools to manually inspect a DataFrame. \n",
    "- The head method is a great tool for outputting the first few rows of a DataFrame. \n",
    "- By default, the head method displays the first five rows of the DataFrame, but any integer can be passed. \n",
    "- This allows for a Data Engineer to quickly check the results of any transformations that were made, and perform a manual \"spot-check\" as a first form of validation. \n",
    "- In addition to the head method, the nsmallest and nlargest methods can be used to show the n-smallest or largest values in a list of columns passed. \n",
    "- These tools are especially useful when filtering data using a range."
   ]
  },
  {
   "cell_type": "markdown",
   "metadata": {},
   "source": [
    "Validating transformations\n",
    "\n",
    "Transforming data comes with risks:\n",
    "- Losing information\n",
    "- Creating faulty data"
   ]
  },
  {
   "cell_type": "code",
   "execution_count": null,
   "metadata": {},
   "outputs": [],
   "source": [
    "# Several ways to investigate a DataFrame\n",
    "cleaned = raw_stock_data.loc[raw_stock_data[\"open\"] > 0, [\"timestamps\", \"open\", \"close\"]]\n",
    "print(cleaned.head())"
   ]
  },
  {
   "cell_type": "code",
   "execution_count": null,
   "metadata": {},
   "outputs": [],
   "source": [
    "# Return smallest and largest records\n",
    "print(cleaned.nsmallest(10, [\"timestamps\"]))\n",
    "print(cleaned.nlargest(10, [\"timestamps\"]))"
   ]
  }
 ],
 "metadata": {
  "language_info": {
   "name": "python"
  }
 },
 "nbformat": 4,
 "nbformat_minor": 2
}
