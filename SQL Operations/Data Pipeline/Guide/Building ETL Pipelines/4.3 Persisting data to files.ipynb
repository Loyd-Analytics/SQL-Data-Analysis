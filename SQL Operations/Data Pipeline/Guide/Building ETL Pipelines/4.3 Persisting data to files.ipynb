{
 "cells": [
  {
   "cell_type": "markdown",
   "metadata": {},
   "source": [
    "# **Persisting data to files**"
   ]
  },
  {
   "cell_type": "markdown",
   "metadata": {},
   "source": [
    "- Loading data to a final destination is one of the most important steps of a data pipeline. In this exercise, you'll use the transform() function shown below to transform product sales data before loading it to a .csv file. This will give downstream data consumers a better view into total sales across a range of products.\n",
    "\n",
    "- For this exercise, the sales data has been loaded and transformed, and is stored in the clean_sales_data DataFrame. The pandas package has been imported as pd, and the os library is also ready to use!"
   ]
  },
  {
   "cell_type": "markdown",
   "metadata": {},
   "source": [
    "**Instructions**\n",
    "\n",
    "- Update the load() function to write data to the provided path, without headers or an index column.\n",
    "- Check to make sure the file was loaded to the desired file path.\n",
    "- Call the function to load the transformed data to persistent storage."
   ]
  },
  {
   "cell_type": "code",
   "execution_count": null,
   "metadata": {},
   "outputs": [],
   "source": [
    "def load(clean_data, file_path):\n",
    "    # Write the data to a file\n",
    "    clean_data.to_csv(file_path, header=False, index=False)\n",
    "\n",
    "    # Check to make sure the file exists\n",
    "    file_exists = os.path.exists(file_path)\n",
    "    if not file_exists:\n",
    "        raise Exception(f\"File does NOT exists at path {file_path}\")\n",
    "\n",
    "# Load the transformed data to the provided file path\n",
    "load(clean_sales_data, \"transformed_sales_data.csv\")"
   ]
  }
 ],
 "metadata": {
  "language_info": {
   "name": "python"
  }
 },
 "nbformat": 4,
 "nbformat_minor": 2
}
