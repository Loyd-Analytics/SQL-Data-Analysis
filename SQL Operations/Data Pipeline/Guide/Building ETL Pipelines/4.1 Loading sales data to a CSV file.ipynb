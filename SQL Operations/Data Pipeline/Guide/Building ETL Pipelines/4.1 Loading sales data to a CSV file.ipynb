{
 "cells": [
  {
   "cell_type": "markdown",
   "metadata": {},
   "source": [
    "# **Loading sales data to a CSV file**"
   ]
  },
  {
   "cell_type": "markdown",
   "metadata": {},
   "source": [
    "- Loading data is an essential component of any data pipeline. \n",
    "- It ensures that any data consumers and processes have reliable access to data that you've extracted and transformed earlier in a pipeline. \n",
    "- In this exercise, you'll practice loading transformed sales data to a CSV file using pandas, which has been imported as pd. \n",
    "- In addition to this, the raw data has been extracted and is available in the DataFrame raw_sales_data."
   ]
  },
  {
   "cell_type": "markdown",
   "metadata": {},
   "source": [
    "**Instructions**\n",
    "\n",
    "- Filter the raw_sales_data DataFrame to only keep all items with a price less than 25 dollars.\n",
    "- Update the load() function to write the transformed sales data to a file named \"transformed_sales_data.csv\", making sure not include the index column.\n",
    "- Call the load() function on the cleaned Data Frame."
   ]
  },
  {
   "cell_type": "code",
   "execution_count": null,
   "metadata": {},
   "outputs": [],
   "source": [
    "def transform(raw_data):\n",
    "\t# Find the items prices less than 25 dollars\n",
    "\treturn raw_data.loc[raw_data[\"Price Each\"] < 25, [\"Order ID\", \"Product\", \"Price Each\", \"Order Date\"]]\n",
    "\n",
    "def load(clean_data):\n",
    "\t# Write the data to a CSV file without the index column\n",
    "\tclean_data.to_csv(\"transformed_sales_data.csv\", index=False)\n",
    "\n",
    "\n",
    "clean_sales_data = transform(raw_sales_data)\n",
    "\n",
    "# Call the load function on the cleaned DataFrame\n",
    "load(clean_sales_data)"
   ]
  }
 ],
 "metadata": {
  "language_info": {
   "name": "python"
  }
 },
 "nbformat": 4,
 "nbformat_minor": 2
}
