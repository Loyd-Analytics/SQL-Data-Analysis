{
 "cells": [
  {
   "cell_type": "markdown",
   "metadata": {},
   "source": [
    "# **Validating data transformations**"
   ]
  },
  {
   "cell_type": "markdown",
   "metadata": {},
   "source": [
    "- Great work so far! Manually spot-checking transformations is a great first step to ensuring that you're maintaining data quality throughout a pipeline. pandas offers several built-in functions to help you with just that!\n",
    "\n",
    "  To help get you started with this exercise, pandas has been imported as pd."
   ]
  },
  {
   "cell_type": "markdown",
   "metadata": {},
   "source": [
    "**Instructions**\n",
    "\n",
    "- Update the extract() function to read the parquet file stored in the file_path parameter into a DataFrame."
   ]
  },
  {
   "cell_type": "code",
   "execution_count": null,
   "metadata": {},
   "outputs": [],
   "source": [
    "def extract(file_path):\n",
    "  \t# Ingest the data to a DataFrame\n",
    "    raw_data = pd.read_parquet(file_path)\n",
    "    \n",
    "    # Return the DataFrame\n",
    "    return raw_data\n",
    "  \n",
    "raw_sales_data = extract(\"sales_data.parquet\")"
   ]
  },
  {
   "cell_type": "markdown",
   "metadata": {},
   "source": [
    "**Instructions**\n",
    "\n",
    "- Update the transform() function to return the \"Order ID\", \"Price Each\" and \"Quantity Ordered\" columns for all items with a \"Quantity Ordered\" equal to 1.\n",
    "- Call the transform() function on the raw_sales_data DataFrame."
   ]
  },
  {
   "cell_type": "code",
   "execution_count": null,
   "metadata": {},
   "outputs": [],
   "source": [
    "def extract(file_path):\n",
    "    raw_data = pd.read_parquet(file_path)\n",
    "    return raw_data\n",
    "\n",
    "raw_sales_data = extract(\"sales_data.parquet\")\n",
    "\n",
    "def transform(raw_data):\n",
    "  \t# Filter rows and columns\n",
    "    clean_data = raw_data.loc[raw_data[\"Quantity Ordered\"] == 1, [\"Order ID\", \"Price Each\", \"Quantity Ordered\"]]\n",
    "    return clean_data\n",
    "\n",
    "# Transform the raw_sales_data\n",
    "clean_sales_data = transform(raw_sales_data)"
   ]
  },
  {
   "cell_type": "markdown",
   "metadata": {},
   "source": [
    "**Question**\n",
    "\n",
    "What is the value of the price \"Price Each\" column of the two most expensive items in the transformed DataFrame?\n",
    "\n",
    "The clean_sales_data DataFrame has been loaded for you, and you can use the console to explore it further."
   ]
  },
  {
   "cell_type": "code",
   "execution_count": null,
   "metadata": {},
   "outputs": [],
   "source": [
    "print(clean_sales_data.sort_values(by=\"Price Each\", ascending=False))"
   ]
  },
  {
   "cell_type": "code",
   "execution_count": null,
   "metadata": {
    "vscode": {
     "languageId": "sql"
    }
   },
   "outputs": [],
   "source": [
    "     Order ID  Price Each  Quantity Ordered\n",
    "137    259490     1700.00                 1\n",
    "217    259566     1700.00                 1\n",
    "115    259469     1700.00                 1\n",
    "104    259458      999.99                 1\n",
    "26     259384      999.99                 1\n",
    "..        ...         ...               ...\n",
    "154    259507        2.99                 1\n",
    "124    259477        2.99                 1\n",
    "131    259484        2.99                 1\n",
    "130    259483        2.99                 1\n",
    "281    259627        2.99                 1\n",
    "\n",
    "[249 rows x 3 columns]"
   ]
  }
 ],
 "metadata": {
  "language_info": {
   "name": "python"
  }
 },
 "nbformat": 4,
 "nbformat_minor": 2
}
