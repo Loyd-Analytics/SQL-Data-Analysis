{
 "cells": [
  {
   "cell_type": "markdown",
   "metadata": {},
   "source": [
    "# **Validating a data pipeline at \"checkpoints\"**"
   ]
  },
  {
   "cell_type": "markdown",
   "metadata": {},
   "source": [
    "- In this exercise, you'll be working with a data pipeline that extracts tax data from a CSV file, creates a new column, filters out rows based on average taxable income, and persists the data to a parquet file.\n",
    "\n",
    "- pandas has been loaded as pd, and the extract(), transform(), and load() functions have already been defined. You'll use these functions to validate the data pipeline at various checkpoints throughout its execution."
   ]
  },
  {
   "cell_type": "markdown",
   "metadata": {},
   "source": [
    "**Instructions**\n",
    "\n",
    "- Print the shape of the raw_tax_data and clean_tax_data DataFrames and observe the difference in dimensions."
   ]
  },
  {
   "cell_type": "code",
   "execution_count": null,
   "metadata": {},
   "outputs": [],
   "source": [
    "# Extract and transform tax_data\n",
    "raw_tax_data = extract(\"raw_tax_data.csv\")\n",
    "clean_tax_data = transform(raw_tax_data)\n",
    "\n",
    "# Check the shape of the raw_tax_data DataFrame, compare to the clean_tax_data DataFrame\n",
    "print(f\"Shape of raw_tax_data: {raw_tax_data.shape}\")\n",
    "print(f\"Shape of clean_tax_data: {clean_tax_data.shape}\")"
   ]
  },
  {
   "cell_type": "code",
   "execution_count": null,
   "metadata": {
    "vscode": {
     "languageId": "sql"
    }
   },
   "outputs": [],
   "source": [
    "Shape of raw_tax_data: (96, 6)\n",
    "Shape of clean_tax_data: (82, 5)"
   ]
  },
  {
   "cell_type": "markdown",
   "metadata": {},
   "source": [
    "**Instructions**\n",
    "\n",
    "- Read the DataFrame from the path \"clean_tax_data.parquet\" into a DataFrame called to_validate, observe the .head() of each."
   ]
  },
  {
   "cell_type": "code",
   "execution_count": null,
   "metadata": {},
   "outputs": [],
   "source": [
    "raw_tax_data = extract(\"raw_tax_data.csv\")\n",
    "clean_tax_data = transform(raw_tax_data)\n",
    "load(clean_tax_data, \"clean_tax_data.parquet\")\n",
    "\n",
    "print(f\"Shape of raw_tax_data: {raw_tax_data.shape}\")\n",
    "print(f\"Shape of clean_tax_data: {clean_tax_data.shape}\")\n",
    "\n",
    "# Read in the loaded data, observe the head of each\n",
    "to_validate = pd.read_parquet(\"clean_tax_data.parquet\")\n",
    "print(clean_tax_data.head(3))\n",
    "print(to_validate.head(3))"
   ]
  },
  {
   "cell_type": "code",
   "execution_count": null,
   "metadata": {
    "vscode": {
     "languageId": "sql"
    }
   },
   "outputs": [],
   "source": [
    "Shape of raw_tax_data: (96, 6)\n",
    "Shape of clean_tax_data: (82, 5)\n",
    "                   number_of_firms  total_taxable_income  total_taxes_paid  total_cash_taxes_paid  average_taxable_income\n",
    "industry_name                                                                                                            \n",
    "Aerospace/Defense               77             30920.169          5106.376               7441.776                 401.561\n",
    "Apparel                         39              5422.690          1112.113               1479.292                 139.043\n",
    "Auto & Truck                    31             33358.200          3529.000               2446.896                1076.071\n",
    "                   number_of_firms  total_taxable_income  total_taxes_paid  total_cash_taxes_paid  average_taxable_income\n",
    "industry_name                                                                                                            \n",
    "Aerospace/Defense               77             30920.169          5106.376               7441.776                 401.561\n",
    "Apparel                         39              5422.690          1112.113               1479.292                 139.043\n",
    "Auto & Truck                    31             33358.200          3529.000               2446.896                1076.071"
   ]
  },
  {
   "cell_type": "markdown",
   "metadata": {},
   "source": [
    "**Instructions**\n",
    "\n",
    "- Check that the to_validate and clean_tax_data DataFrames are equal."
   ]
  },
  {
   "cell_type": "code",
   "execution_count": null,
   "metadata": {},
   "outputs": [],
   "source": [
    "raw_tax_data = extract(\"raw_tax_data.csv\")\n",
    "clean_tax_data = transform(raw_tax_data)\n",
    "load(clean_tax_data, \"clean_tax_data.parquet\")\n",
    "\n",
    "print(f\"Shape of raw_tax_data: {raw_tax_data.shape}\")\n",
    "print(f\"Shape of clean_tax_data: {clean_tax_data.shape}\")\n",
    "\n",
    "to_validate = pd.read_parquet(\"clean_tax_data.parquet\")\n",
    "print(clean_tax_data.head(3))\n",
    "print(to_validate.head(3))\n",
    "\n",
    "# Check that the DataFrames are equal\n",
    "print(to_validate.equals(clean_tax_data))"
   ]
  },
  {
   "cell_type": "code",
   "execution_count": null,
   "metadata": {
    "vscode": {
     "languageId": "sql"
    }
   },
   "outputs": [],
   "source": [
    "Shape of raw_tax_data: (96, 6)\n",
    "Shape of clean_tax_data: (82, 5)\n",
    "\n",
    "                   number_of_firms  total_taxable_income  total_taxes_paid  total_cash_taxes_paid  average_taxable_income\n",
    "industry_name                                                                                                            \n",
    "Aerospace/Defense               77             30920.169          5106.376               7441.776                 401.561\n",
    "Apparel                         39              5422.690          1112.113               1479.292                 139.043\n",
    "Auto & Truck                    31             33358.200          3529.000               2446.896                1076.071\n",
    "                   number_of_firms  total_taxable_income  total_taxes_paid  total_cash_taxes_paid  average_taxable_income\n",
    "industry_name                                                                                                            \n",
    "Aerospace/Defense               77             30920.169          5106.376               7441.776                 401.561\n",
    "Apparel                         39              5422.690          1112.113               1479.292                 139.043\n",
    "Auto & Truck                    31             33358.200          3529.000               2446.896                1076.071\n",
    "\n",
    "True"
   ]
  },
  {
   "cell_type": "markdown",
   "metadata": {},
   "source": [
    "In summary, while the shapes of raw_tax_data and clean_tax_data differ, the equality check (equals method) confirms that the clean_tax_data DataFrame and the DataFrame loaded from the Parquet file (to_validate) have identical data values."
   ]
  }
 ],
 "metadata": {
  "language_info": {
   "name": "python"
  }
 },
 "nbformat": 4,
 "nbformat_minor": 2
}
