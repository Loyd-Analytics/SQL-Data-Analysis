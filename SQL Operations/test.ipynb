{
 "cells": [
  {
   "cell_type": "code",
   "execution_count": null,
   "metadata": {
    "vscode": {
     "languageId": "sql"
    }
   },
   "outputs": [],
   "source": [
    "SELECT \n",
    "    gender,  -- Column to show gender\n",
    "    country, -- Column to show country\n",
    "    COUNT(*) AS customer_count -- Counts the number of customers\n",
    "FROM \n",
    "    customers\n",
    "GROUP BY \n",
    "    CUBE (gender, country) -- Groups the data by all combinations of gender and country, including subtotals and grand totals.\n",
    "ORDER BY \n",
    "    country; -- Orders the result set by country."
   ]
  },
  {
   "cell_type": "markdown",
   "metadata": {},
   "source": [
    "**Explanation:**\n",
    "\n",
    "- This SQL query calculates the number of customers for different combinations of gender and country. The CUBE function in the GROUP BY clause generates aggregate results not only for each unique combination of gender and country but also for subtotals (e.g., total customers per gender regardless of country, total customers per country regardless of gender) and a grand total of all customers. The results are then ordered by country."
   ]
  }
 ],
 "metadata": {
  "kernelspec": {
   "display_name": "Python 3",
   "language": "python",
   "name": "python3"
  },
  "language_info": {
   "name": "python",
   "version": "3.13.0"
  }
 },
 "nbformat": 4,
 "nbformat_minor": 2
}
